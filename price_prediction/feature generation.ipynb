{
 "cells": [
  {
   "cell_type": "code",
   "execution_count": 1,
   "id": "smaller-diving",
   "metadata": {},
   "outputs": [],
   "source": [
    "import numpy as np\n",
    "import pandas as pd\n",
    "import matplotlib.pyplot as plt\n",
    "%matplotlib inline\n",
    "from tqdm.notebook import tqdm\n",
    "tqdm.pandas()\n",
    "import seaborn as sns\n",
    "import functools\n",
    "import operator\n",
    "import os\n",
    "import swifter\n",
    "import collections\n",
    "from gensim.models.doc2vec import Doc2Vec, TaggedDocument\n",
    "from sklearn.preprocessing import StandardScaler, LabelEncoder\n",
    "from nltk.tokenize import word_tokenize\n",
    "file = \"cleaned_data.csv\"\n",
    "SEED=32\n"
   ]
  },
  {
   "cell_type": "code",
   "execution_count": 2,
   "id": "exempt-relief",
   "metadata": {},
   "outputs": [],
   "source": [
    "nlp = ['Package Name', 'Destination', 'Itinerary', 'Places Covered', 'Hotel Details', 'Airline',\n",
    "       'Sightseeing Places Covered']\n",
    "cat_cols = ['Package Type', 'Start City', 'Cancellation Rules']\n",
    "reg_cols = ['Flight Stops', 'Meals', 'destination_count',\n",
    "       'airlines_count', 'sightseeing_count', 'hotel_details_count',\n",
    "       'place_covered_count', 'itinerary_count', 'package_name_length']\n",
    "date_col = 'Travel Date'\n",
    "target_col = 'Per Person Price'"
   ]
  },
  {
   "cell_type": "code",
   "execution_count": 3,
   "id": "designed-wireless",
   "metadata": {},
   "outputs": [
    {
     "data": {
      "text/html": [
       "<div>\n",
       "<style scoped>\n",
       "    .dataframe tbody tr th:only-of-type {\n",
       "        vertical-align: middle;\n",
       "    }\n",
       "\n",
       "    .dataframe tbody tr th {\n",
       "        vertical-align: top;\n",
       "    }\n",
       "\n",
       "    .dataframe thead th {\n",
       "        text-align: right;\n",
       "    }\n",
       "</style>\n",
       "<table border=\"1\" class=\"dataframe\">\n",
       "  <thead>\n",
       "    <tr style=\"text-align: right;\">\n",
       "      <th></th>\n",
       "      <th>Uniq Id</th>\n",
       "      <th>Package Name</th>\n",
       "      <th>Package Type</th>\n",
       "      <th>Destination</th>\n",
       "      <th>Itinerary</th>\n",
       "      <th>Places Covered</th>\n",
       "      <th>Travel Date</th>\n",
       "      <th>Hotel Details</th>\n",
       "      <th>Start City</th>\n",
       "      <th>Airline</th>\n",
       "      <th>...</th>\n",
       "      <th>Sightseeing Places Covered</th>\n",
       "      <th>Cancellation Rules</th>\n",
       "      <th>Per Person Price</th>\n",
       "      <th>destination_count</th>\n",
       "      <th>airlines_count</th>\n",
       "      <th>sightseeing_count</th>\n",
       "      <th>hotel_details_count</th>\n",
       "      <th>place_covered_count</th>\n",
       "      <th>itinerary_count</th>\n",
       "      <th>package_name_length</th>\n",
       "    </tr>\n",
       "  </thead>\n",
       "  <tbody>\n",
       "    <tr>\n",
       "      <th>0</th>\n",
       "      <td>e788ab76d9d8cf1e6ed2f139645ca5d1</td>\n",
       "      <td>Best of Shimla and Manali Holiday from Delhi</td>\n",
       "      <td>Standard</td>\n",
       "      <td>New Delhi|Shimla|Manali|Chandigarh</td>\n",
       "      <td>1N New Delhi . 2N Shimla . 2N Manali . 1N Chan...</td>\n",
       "      <td>New Delhi|Shimla|Manali|Chandigarh</td>\n",
       "      <td>2021-07-30</td>\n",
       "      <td>Not Available</td>\n",
       "      <td>Mumbai</td>\n",
       "      <td>Not Available</td>\n",
       "      <td>...</td>\n",
       "      <td>Not Available</td>\n",
       "      <td>Not Available</td>\n",
       "      <td>11509.0</td>\n",
       "      <td>4</td>\n",
       "      <td>1</td>\n",
       "      <td>1</td>\n",
       "      <td>1</td>\n",
       "      <td>4</td>\n",
       "      <td>4</td>\n",
       "      <td>8</td>\n",
       "    </tr>\n",
       "    <tr>\n",
       "      <th>1</th>\n",
       "      <td>178f892630ce3e335a5a41d5d83937fd</td>\n",
       "      <td>Kashmir Valley vacation</td>\n",
       "      <td>Premium</td>\n",
       "      <td>Srinagar|Pahalgam|Srinagar</td>\n",
       "      <td>1N Srinagar . 2N Pahalgam . 1N Srinagar</td>\n",
       "      <td>Srinagar|Pahalgam|Srinagar</td>\n",
       "      <td>2021-08-12</td>\n",
       "      <td>The Orchard Retreat &amp; Spa:4.6|WelcomHotel Pine...</td>\n",
       "      <td>New Delhi</td>\n",
       "      <td>IndiGo|IndiGo</td>\n",
       "      <td>...</td>\n",
       "      <td>Dal Lake | Avantipura Ruins | Mughal Gardens ...</td>\n",
       "      <td>Cancellation any time after making the 1st pay...</td>\n",
       "      <td>22485.5</td>\n",
       "      <td>3</td>\n",
       "      <td>2</td>\n",
       "      <td>7</td>\n",
       "      <td>3</td>\n",
       "      <td>3</td>\n",
       "      <td>3</td>\n",
       "      <td>3</td>\n",
       "    </tr>\n",
       "    <tr>\n",
       "      <th>2</th>\n",
       "      <td>f060f2954840503cc2fdaf495357b7df</td>\n",
       "      <td>Might of Mewar- Udaipur and Chittorgarh</td>\n",
       "      <td>Luxury</td>\n",
       "      <td>Udaipur|Chittorgarh</td>\n",
       "      <td>2N Udaipur . 1N Chittorgarh</td>\n",
       "      <td>Udaipur|Chittorgarh</td>\n",
       "      <td>2021-04-26</td>\n",
       "      <td>The Ananta:4.4|juSTa Lake Nahargarh Palace:4</td>\n",
       "      <td>New Delhi</td>\n",
       "      <td>IndiGo</td>\n",
       "      <td>...</td>\n",
       "      <td>Lake Pichola | Jag Mandir Palace | Saheliyon ...</td>\n",
       "      <td>Cancellation any time after making the 1st pay...</td>\n",
       "      <td>12421.5</td>\n",
       "      <td>2</td>\n",
       "      <td>1</td>\n",
       "      <td>8</td>\n",
       "      <td>2</td>\n",
       "      <td>2</td>\n",
       "      <td>2</td>\n",
       "      <td>6</td>\n",
       "    </tr>\n",
       "    <tr>\n",
       "      <th>3</th>\n",
       "      <td>32a19a6c171e67448f2346da46c619dc</td>\n",
       "      <td>Colorful Kerala ( Romantic Getaway )</td>\n",
       "      <td>Premium</td>\n",
       "      <td>Munnar|Kumarakom|Allepey|Kovalam and Poovar</td>\n",
       "      <td>2N Munnar . 1N Kumarakom . 1N Allepey . 2N Kov...</td>\n",
       "      <td>Munnar|Kumarakom|Allepey|Kovalam and Poovar</td>\n",
       "      <td>2021-08-27</td>\n",
       "      <td>Elixir Hills Suites Resort &amp; Spa-MMT Holidays ...</td>\n",
       "      <td>New Delhi</td>\n",
       "      <td>IndiGo</td>\n",
       "      <td>...</td>\n",
       "      <td>Mattupetty Dam | Echo Point | Tata Tea Museum...</td>\n",
       "      <td>Cancellation any time after making the 1st pay...</td>\n",
       "      <td>35967.0</td>\n",
       "      <td>4</td>\n",
       "      <td>1</td>\n",
       "      <td>9</td>\n",
       "      <td>4</td>\n",
       "      <td>4</td>\n",
       "      <td>4</td>\n",
       "      <td>6</td>\n",
       "    </tr>\n",
       "    <tr>\n",
       "      <th>4</th>\n",
       "      <td>107b068aa0ca03bc6248966f594d105f</td>\n",
       "      <td>A Week In Bangkok &amp; Pattaya</td>\n",
       "      <td>Premium</td>\n",
       "      <td>Pattaya|Bangkok</td>\n",
       "      <td>4N Pattaya . 3N Bangkok</td>\n",
       "      <td>Pattaya|Bangkok</td>\n",
       "      <td>2021-12-12</td>\n",
       "      <td>Dusit Thani Pattaya - MMT Special:4.5|Amari Wa...</td>\n",
       "      <td>New Delhi</td>\n",
       "      <td>Spicejet|Go Air</td>\n",
       "      <td>...</td>\n",
       "      <td>Coral Island Tour with Indian Lunch, Join Spe...</td>\n",
       "      <td>Cancellation any time after making the 1st pay...</td>\n",
       "      <td>25584.0</td>\n",
       "      <td>2</td>\n",
       "      <td>2</td>\n",
       "      <td>2</td>\n",
       "      <td>2</td>\n",
       "      <td>2</td>\n",
       "      <td>2</td>\n",
       "      <td>6</td>\n",
       "    </tr>\n",
       "  </tbody>\n",
       "</table>\n",
       "<p>5 rows × 22 columns</p>\n",
       "</div>"
      ],
      "text/plain": [
       "                            Uniq Id  \\\n",
       "0  e788ab76d9d8cf1e6ed2f139645ca5d1   \n",
       "1  178f892630ce3e335a5a41d5d83937fd   \n",
       "2  f060f2954840503cc2fdaf495357b7df   \n",
       "3  32a19a6c171e67448f2346da46c619dc   \n",
       "4  107b068aa0ca03bc6248966f594d105f   \n",
       "\n",
       "                                   Package Name Package Type  \\\n",
       "0  Best of Shimla and Manali Holiday from Delhi     Standard   \n",
       "1                       Kashmir Valley vacation      Premium   \n",
       "2       Might of Mewar- Udaipur and Chittorgarh       Luxury   \n",
       "3          Colorful Kerala ( Romantic Getaway )      Premium   \n",
       "4                   A Week In Bangkok & Pattaya      Premium   \n",
       "\n",
       "                                   Destination  \\\n",
       "0           New Delhi|Shimla|Manali|Chandigarh   \n",
       "1                   Srinagar|Pahalgam|Srinagar   \n",
       "2                          Udaipur|Chittorgarh   \n",
       "3  Munnar|Kumarakom|Allepey|Kovalam and Poovar   \n",
       "4                              Pattaya|Bangkok   \n",
       "\n",
       "                                           Itinerary  \\\n",
       "0  1N New Delhi . 2N Shimla . 2N Manali . 1N Chan...   \n",
       "1            1N Srinagar . 2N Pahalgam . 1N Srinagar   \n",
       "2                        2N Udaipur . 1N Chittorgarh   \n",
       "3  2N Munnar . 1N Kumarakom . 1N Allepey . 2N Kov...   \n",
       "4                            4N Pattaya . 3N Bangkok   \n",
       "\n",
       "                                Places Covered Travel Date  \\\n",
       "0           New Delhi|Shimla|Manali|Chandigarh  2021-07-30   \n",
       "1                   Srinagar|Pahalgam|Srinagar  2021-08-12   \n",
       "2                          Udaipur|Chittorgarh  2021-04-26   \n",
       "3  Munnar|Kumarakom|Allepey|Kovalam and Poovar  2021-08-27   \n",
       "4                              Pattaya|Bangkok  2021-12-12   \n",
       "\n",
       "                                       Hotel Details Start City  \\\n",
       "0                                      Not Available     Mumbai   \n",
       "1  The Orchard Retreat & Spa:4.6|WelcomHotel Pine...  New Delhi   \n",
       "2       The Ananta:4.4|juSTa Lake Nahargarh Palace:4  New Delhi   \n",
       "3  Elixir Hills Suites Resort & Spa-MMT Holidays ...  New Delhi   \n",
       "4  Dusit Thani Pattaya - MMT Special:4.5|Amari Wa...  New Delhi   \n",
       "\n",
       "           Airline  ...                         Sightseeing Places Covered  \\\n",
       "0    Not Available  ...                                      Not Available   \n",
       "1    IndiGo|IndiGo  ...   Dal Lake | Avantipura Ruins | Mughal Gardens ...   \n",
       "2           IndiGo  ...   Lake Pichola | Jag Mandir Palace | Saheliyon ...   \n",
       "3           IndiGo  ...   Mattupetty Dam | Echo Point | Tata Tea Museum...   \n",
       "4  Spicejet|Go Air  ...   Coral Island Tour with Indian Lunch, Join Spe...   \n",
       "\n",
       "                                  Cancellation Rules Per Person Price  \\\n",
       "0                                      Not Available          11509.0   \n",
       "1  Cancellation any time after making the 1st pay...          22485.5   \n",
       "2  Cancellation any time after making the 1st pay...          12421.5   \n",
       "3  Cancellation any time after making the 1st pay...          35967.0   \n",
       "4  Cancellation any time after making the 1st pay...          25584.0   \n",
       "\n",
       "  destination_count  airlines_count  sightseeing_count  hotel_details_count  \\\n",
       "0                 4               1                  1                    1   \n",
       "1                 3               2                  7                    3   \n",
       "2                 2               1                  8                    2   \n",
       "3                 4               1                  9                    4   \n",
       "4                 2               2                  2                    2   \n",
       "\n",
       "   place_covered_count  itinerary_count  package_name_length  \n",
       "0                    4                4                    8  \n",
       "1                    3                3                    3  \n",
       "2                    2                2                    6  \n",
       "3                    4                4                    6  \n",
       "4                    2                2                    6  \n",
       "\n",
       "[5 rows x 22 columns]"
      ]
     },
     "execution_count": 3,
     "metadata": {},
     "output_type": "execute_result"
    }
   ],
   "source": [
    "df = pd.read_csv(file, parse_dates=['Travel Date'])\n",
    "df.head()"
   ]
  },
  {
   "cell_type": "markdown",
   "id": "ultimate-shoulder",
   "metadata": {},
   "source": [
    "# straight strings ['Package Name']"
   ]
  },
  {
   "cell_type": "code",
   "execution_count": 4,
   "id": "technical-tanzania",
   "metadata": {},
   "outputs": [],
   "source": [
    "\n",
    "class StraightString(object):\n",
    "    def __init__(self, vector_size, window, epochs):\n",
    "        self.vector_size = vector_size\n",
    "        self.window = window\n",
    "        self.epochs = epochs\n",
    "    \n",
    "    def train(self, string_array, separator=None, double_word=False):\n",
    "        string_array = [i.replace('-', ' ') for i in string_array]\n",
    "        if not separator:\n",
    "            documents = [TaggedDocument(words=_d.lower().split(), tags=[str(i)]) for i, _d in enumerate(string_array)]\n",
    "        elif double_word:\n",
    "            assert separator\n",
    "            documents = [TaggedDocument(words=_d.lower().replace(separator, ' ').split(), tags=[str(i)]) for i, _d in enumerate(string_array)]\n",
    "        else:\n",
    "            documents = [TaggedDocument(words=_d.lower().split(separator), tags=[str(i)]) for i, _d in enumerate(string_array)]\n",
    "        print(documents[:10])\n",
    "        model = Doc2Vec(\n",
    "            vector_size=self.vector_size,\n",
    "            seed=SEED,\n",
    "            window=self.window,\n",
    "            epocs=self.epochs,\n",
    "            workers=4,\n",
    "            min_count=1\n",
    "        )\n",
    "        model.build_vocab(documents)\n",
    "        model.train(documents, total_examples=model.corpus_count, epochs=model.iter)\n",
    "        return model\n",
    "\n",
    "def doc_2_vec_features(m, x):\n",
    "    return tuple(m.infer_vector(word_tokenize(x.lower())))"
   ]
  },
  {
   "cell_type": "code",
   "execution_count": 5,
   "id": "original-configuration",
   "metadata": {},
   "outputs": [
    {
     "name": "stdout",
     "output_type": "stream",
     "text": [
      "[TaggedDocument(words=['best', 'of', 'shimla', 'and', 'manali', 'holiday', 'from', 'delhi'], tags=['0']), TaggedDocument(words=['kashmir', 'valley', 'vacation'], tags=['1']), TaggedDocument(words=['might', 'of', 'mewar', 'udaipur', 'and', 'chittorgarh'], tags=['2']), TaggedDocument(words=['colorful', 'kerala', '(', 'romantic', 'getaway', ')'], tags=['3']), TaggedDocument(words=['a', 'week', 'in', 'bangkok', '&', 'pattaya'], tags=['4']), TaggedDocument(words=['cochin', 'trip', 'with', 'visit', 'to', 'guruvayoor', 'temple'], tags=['5']), TaggedDocument(words=['jaipur', 'holiday'], tags=['6']), TaggedDocument(words=['kasol', '&', 'manali', 'holiday', 'from', 'delhi'], tags=['7']), TaggedDocument(words=['charismatic', 'kashmir', 'with', 'gulmarg'], tags=['8']), TaggedDocument(words=['luxury', 'getaway', 'to', 'udaipur', 'stay', 'at', 'the', 'chunda', 'palace', 'hotel'], tags=['9'])]\n"
     ]
    },
    {
     "name": "stderr",
     "output_type": "stream",
     "text": [
      "/home/ashutosh/miniconda3/lib/python3.7/site-packages/ipykernel_launcher.py:26: DeprecationWarning: Call to deprecated `iter` (Attribute will be removed in 4.0.0, use self.epochs instead).\n"
     ]
    },
    {
     "data": {
      "application/vnd.jupyter.widget-view+json": {
       "model_id": "d689978aa36544fcb757f0cff0213355",
       "version_major": 2,
       "version_minor": 0
      },
      "text/plain": [
       "  0%|          | 0/30000 [00:00<?, ?it/s]"
      ]
     },
     "metadata": {},
     "output_type": "display_data"
    }
   ],
   "source": [
    "\n",
    "model = StraightString(10, 10, 100).train(df['Package Name'].values)\n",
    "df['package_name_0'], df['package_name_1'], df['package_name_2'], df['package_name_3'], df['package_name_4'],\\\n",
    "df['package_name_5'], df['package_name_6'], df['package_name_7'], df['package_name_8'], df['package_name_9']\\\n",
    "= zip(*(df['Package Name'].progress_apply(lambda x: doc_2_vec_features(model, x))))"
   ]
  },
  {
   "cell_type": "markdown",
   "id": "deluxe-fundamentals",
   "metadata": {},
   "source": [
    "# straight strings separated by a separator ['Destination', 'Places Covered', 'Hotel Details','Sightseeing Places Covered']\n",
    "\n",
    "# combination of strings and numbers separated by a separator ['Itinerary']"
   ]
  },
  {
   "cell_type": "code",
   "execution_count": 6,
   "id": "scientific-vacation",
   "metadata": {},
   "outputs": [
    {
     "name": "stdout",
     "output_type": "stream",
     "text": [
      "[TaggedDocument(words=['new delhi', 'shimla', 'manali', 'chandigarh'], tags=['0']), TaggedDocument(words=['srinagar', 'pahalgam', 'srinagar'], tags=['1']), TaggedDocument(words=['udaipur', 'chittorgarh'], tags=['2']), TaggedDocument(words=['munnar', 'kumarakom', 'allepey', 'kovalam and poovar'], tags=['3']), TaggedDocument(words=['pattaya', 'bangkok'], tags=['4']), TaggedDocument(words=['cochin'], tags=['5']), TaggedDocument(words=['jaipur'], tags=['6']), TaggedDocument(words=['kasol', 'manali'], tags=['7']), TaggedDocument(words=['srinagar', 'gulmarg', 'pahalgam', 'srinagar'], tags=['8']), TaggedDocument(words=['udaipur'], tags=['9'])]\n"
     ]
    },
    {
     "name": "stderr",
     "output_type": "stream",
     "text": [
      "/home/ashutosh/miniconda3/lib/python3.7/site-packages/ipykernel_launcher.py:26: DeprecationWarning: Call to deprecated `iter` (Attribute will be removed in 4.0.0, use self.epochs instead).\n"
     ]
    },
    {
     "data": {
      "application/vnd.jupyter.widget-view+json": {
       "model_id": "988c08ba6282499da09c7d53232a0298",
       "version_major": 2,
       "version_minor": 0
      },
      "text/plain": [
       "  0%|          | 0/30000 [00:00<?, ?it/s]"
      ]
     },
     "metadata": {},
     "output_type": "display_data"
    },
    {
     "name": "stdout",
     "output_type": "stream",
     "text": [
      "[TaggedDocument(words=['new delhi', 'shimla', 'manali', 'chandigarh'], tags=['0']), TaggedDocument(words=['srinagar', 'pahalgam', 'srinagar'], tags=['1']), TaggedDocument(words=['udaipur', 'chittorgarh'], tags=['2']), TaggedDocument(words=['munnar', 'kumarakom', 'allepey', 'kovalam and poovar'], tags=['3']), TaggedDocument(words=['pattaya', 'bangkok'], tags=['4']), TaggedDocument(words=['cochin'], tags=['5']), TaggedDocument(words=['jaipur'], tags=['6']), TaggedDocument(words=['kasol', 'manali'], tags=['7']), TaggedDocument(words=['srinagar', 'gulmarg', 'pahalgam', 'srinagar'], tags=['8']), TaggedDocument(words=['udaipur'], tags=['9'])]\n"
     ]
    },
    {
     "data": {
      "application/vnd.jupyter.widget-view+json": {
       "model_id": "b7cc85bf2a3b489a83c18835d37d96f3",
       "version_major": 2,
       "version_minor": 0
      },
      "text/plain": [
       "  0%|          | 0/30000 [00:00<?, ?it/s]"
      ]
     },
     "metadata": {},
     "output_type": "display_data"
    },
    {
     "name": "stdout",
     "output_type": "stream",
     "text": [
      "[TaggedDocument(words=['not available'], tags=['0']), TaggedDocument(words=[' dal lake', 'avantipura ruins', 'mughal gardens', 'cheshma shahi', 'nishat bagh', 'shalimar garden', 'shankaracharya temple '], tags=['1']), TaggedDocument(words=[' lake pichola', 'jag mandir palace', 'saheliyon ki bari', 'maharana pratap smarak', 'vintage car museum', 'city palace', 'crystal gallery', 'chittorgarh fort '], tags=['2']), TaggedDocument(words=[' mattupetty dam', 'echo point', 'tata tea museum', 'pothamedu view point', 'lakkam waterfalls', 'eravikulam national park', 'rose garden', 'kumarakom bird sanctuary', 'pathiramanal island '], tags=['3']), TaggedDocument(words=[' coral island tour with indian lunch, join speed boat by shared transfer', 'hotel in pattaya to hotel in bangkok by shared transfer '], tags=['4']), TaggedDocument(words=[' dutch palace', 'jewish synagogue', 'st. francis church', 'chinese fishing nets', 'day excursion to guruvayoor (with transfers) '], tags=['5']), TaggedDocument(words=[' hawa mahal', 'city palace', 'jantar mantar', 'amer fort '], tags=['6']), TaggedDocument(words=[' pandoh dam', 'hadimba temple', 'tibetan monastery', 'vashishth kund', 'solang valley', 'manikaran '], tags=['7']), TaggedDocument(words=[' dal lake', 'gondola point', 'avantipura ruins', 'mughal gardens', 'cheshma shahi', 'nishat bagh', 'shalimar garden', 'shankaracharya temple', 'dal lake '], tags=['8']), TaggedDocument(words=[' lake pichola', 'jag mandir palace', 'sajjangarh palace '], tags=['9'])]\n"
     ]
    },
    {
     "data": {
      "application/vnd.jupyter.widget-view+json": {
       "model_id": "b31a5a55f6e948a2958b8785206e0e3d",
       "version_major": 2,
       "version_minor": 0
      },
      "text/plain": [
       "  0%|          | 0/30000 [00:00<?, ?it/s]"
      ]
     },
     "metadata": {},
     "output_type": "display_data"
    },
    {
     "name": "stdout",
     "output_type": "stream",
     "text": [
      "[TaggedDocument(words=['1n new delhi', '2n shimla', '2n manali', '1n chandigarh'], tags=['0']), TaggedDocument(words=['1n srinagar', '2n pahalgam', '1n srinagar'], tags=['1']), TaggedDocument(words=['2n udaipur', '1n chittorgarh'], tags=['2']), TaggedDocument(words=['2n munnar', '1n kumarakom', '1n allepey', '2n kovalam and poovar'], tags=['3']), TaggedDocument(words=['4n pattaya', '3n bangkok'], tags=['4']), TaggedDocument(words=['2n cochin'], tags=['5']), TaggedDocument(words=['3n jaipur'], tags=['6']), TaggedDocument(words=['2n kasol', '3n manali'], tags=['7']), TaggedDocument(words=['1n srinagar', '1n gulmarg', '2n pahalgam', '2n srinagar'], tags=['8']), TaggedDocument(words=['2n udaipur'], tags=['9'])]\n"
     ]
    },
    {
     "data": {
      "application/vnd.jupyter.widget-view+json": {
       "model_id": "7ebaa67f0b4245548318422f166bc441",
       "version_major": 2,
       "version_minor": 0
      },
      "text/plain": [
       "  0%|          | 0/30000 [00:00<?, ?it/s]"
      ]
     },
     "metadata": {},
     "output_type": "display_data"
    },
    {
     "name": "stdout",
     "output_type": "stream",
     "text": [
      "[TaggedDocument(words=['not', 'available'], tags=['0']), TaggedDocument(words=['the', 'orchard', 'retreat', '&', 'spa:4.6', 'welcomhotel', 'pine', 'n', 'peak', 'pahalgam', 'member', 'itc', 'hotel', 'group:4.1', 'the', 'orchard', 'retreat', '&', 'spa:4.6'], tags=['1']), TaggedDocument(words=['the', 'ananta:4.4', 'justa', 'lake', 'nahargarh', 'palace:4'], tags=['2']), TaggedDocument(words=['elixir', 'hills', 'suites', 'resort', '&', 'spa', 'mmt', 'holidays', 'special:4.6', 'the', 'zuri', 'kumarakom,', 'kerala', 'resort', '&', 'spa:4.6', 'marari', 'beach', 'cgh', 'earth:4.3', 'estuary', 'sarovar', 'portico:'], tags=['3']), TaggedDocument(words=['dusit', 'thani', 'pattaya', 'mmt', 'special:4.5', 'amari', 'watergate', 'hotel', 'bangkok', 'mmt', 'special:4.2'], tags=['4']), TaggedDocument(words=['not', 'available'], tags=['5']), TaggedDocument(words=['ratnawali', 'a', 'vegetarian', 'heritage', 'hotel:4.1'], tags=['6']), TaggedDocument(words=['the', 'himalayan', 'village:four', 'the', 'holiday', 'resorts,', 'cottages', '&', 'spa:four'], tags=['7']), TaggedDocument(words=['california', 'group', 'of', 'houseboats:3.6', 'the', 'rosewood', 'hotel:3.4', 'the', 'chinar', 'resort', '&', 'spa:4.6', 'california', 'group', 'of', 'houseboats:3.6'], tags=['8']), TaggedDocument(words=['chunda', 'palace:4.6'], tags=['9'])]\n"
     ]
    },
    {
     "data": {
      "application/vnd.jupyter.widget-view+json": {
       "model_id": "ad484898568d430db4e102dd4a583f25",
       "version_major": 2,
       "version_minor": 0
      },
      "text/plain": [
       "  0%|          | 0/30000 [00:00<?, ?it/s]"
      ]
     },
     "metadata": {},
     "output_type": "display_data"
    }
   ],
   "source": [
    "# need to wok on itinerrary features, include total nights, etc\n",
    "\n",
    "model = StraightString(4, 4, 50).train(df['Destination'].values, separator='|')\n",
    "df['destination_0'], df['destination_1'], df['destination_2'], df['destination_3']\\\n",
    "= zip(*(df['Destination'].progress_apply(lambda x: doc_2_vec_features(model, x))))\n",
    "\n",
    "\n",
    "\n",
    "model = StraightString(4, 4, 50).train(df['Places Covered'].values, separator='|')\n",
    "df['places_covered_0'], df['places_covered_1'], df['places_covered_2'], df['places_covered_3']\\\n",
    "= zip(*(df['Places Covered'].progress_apply(lambda x: doc_2_vec_features(model, x))))\n",
    "\n",
    "\n",
    "model = StraightString(4, 4, 50).train(df['Sightseeing Places Covered'].values, separator=' | ')\n",
    "df['sight_seeing_places_covered_0'], df['sight_seeing_places_covered_1'], df['sight_seeing_places_covered_3'],\\\n",
    "df['sight_seeing_places_covered_4']\\\n",
    "= zip(*(df['Sightseeing Places Covered'].progress_apply(lambda x: doc_2_vec_features(model, x))))\n",
    "\n",
    "\n",
    "\n",
    "\n",
    "model = StraightString(4, 4, 50).train(df['Itinerary'].values, separator=' . ')\n",
    "df['itinerary_0'], df['itinerary_1'], df['itinerary_2'], df['itinerary_3']\\\n",
    "= zip(*(df['Itinerary'].progress_apply(lambda x: doc_2_vec_features(model, x))))\n",
    "\n",
    "\n",
    "\n",
    "model = StraightString(10, 10, 100).train(df['Hotel Details'].values, separator='|', double_word=True)\n",
    "df['hotel_details_0'], df['hotel_details_1'], df['hotel_details_2'], df['hotel_details_3'], df['hotel_details_4'],\\\n",
    "df['hotel_details_5'], df['hotel_details_6'], df['hotel_details_7'], df['hotel_details_8'], df['hotel_details_9']\\\n",
    "= zip(*(df['Hotel Details'].progress_apply(lambda x: doc_2_vec_features(model, x))))"
   ]
  },
  {
   "cell_type": "markdown",
   "id": "inner-basis",
   "metadata": {},
   "source": [
    "# categorical values separated by a separator ['Airline']"
   ]
  },
  {
   "cell_type": "code",
   "execution_count": 7,
   "id": "attempted-optics",
   "metadata": {},
   "outputs": [],
   "source": [
    "airlines = ['PAD']\n",
    "for i in df.Airline:\n",
    "    airlines.extend(i.split(\"|\"))\n",
    "\n",
    "airline_encoder = LabelEncoder()\n",
    "airline_encoder.fit(airlines)\n",
    "def padded_keywords(s):  \n",
    "    lst = s.split(\"|\")\n",
    "    \n",
    "    if len(lst) <= 5:\n",
    "        ret = ['PAD'] * (5 - len(lst))\n",
    "        ret.extend(lst)\n",
    "    else:\n",
    "        ret = lst[-5:]\n",
    "    assert len(ret) == 5\n",
    "    return airline_encoder.transform([ret[0]])[0], airline_encoder.transform([ret[1]])[0], airline_encoder.transform([ret[2]])[0], \\\n",
    "    airline_encoder.transform([ret[3]])[0], airline_encoder.transform([ret[4]])[0]\n",
    "df['airline_0'] , df['airline_1'], df['airline_2'], df['airline_3'], df['airline_4']\\\n",
    "= zip(*df['Airline'].apply(padded_keywords))\n"
   ]
  },
  {
   "cell_type": "code",
   "execution_count": 8,
   "id": "german-finger",
   "metadata": {},
   "outputs": [],
   "source": [
    "df.drop(columns=nlp, inplace=True)"
   ]
  },
  {
   "cell_type": "markdown",
   "id": "instant-monday",
   "metadata": {},
   "source": [
    "# categorical  cols"
   ]
  },
  {
   "cell_type": "code",
   "execution_count": 9,
   "id": "judicial-appliance",
   "metadata": {},
   "outputs": [
    {
     "data": {
      "application/vnd.jupyter.widget-view+json": {
       "model_id": "bc6fb7f1513c4630a3bad710cc32b31c",
       "version_major": 2,
       "version_minor": 0
      },
      "text/plain": [
       "  0%|          | 0/3 [00:00<?, ?it/s]"
      ]
     },
     "metadata": {},
     "output_type": "display_data"
    }
   ],
   "source": [
    "for col in tqdm(cat_cols):\n",
    "    df[col] = LabelEncoder().fit_transform(df[col])"
   ]
  },
  {
   "cell_type": "markdown",
   "id": "sunset-queen",
   "metadata": {},
   "source": [
    "# need to work on time series features"
   ]
  },
  {
   "cell_type": "code",
   "execution_count": 10,
   "id": "universal-mobile",
   "metadata": {},
   "outputs": [
    {
     "data": {
      "text/plain": [
       "<AxesSubplot:xlabel='Travel Date', ylabel='Per Person Price'>"
      ]
     },
     "execution_count": 10,
     "metadata": {},
     "output_type": "execute_result"
    },
    {
     "data": {
      "image/png": "[encoded data removed]",
      "text/plain": [
       "<Figure size 432x288 with 1 Axes>"
      ]
     },
     "metadata": {
      "needs_background": "light"
     },
     "output_type": "display_data"
    }
   ],
   "source": [
    "# average price\n",
    "\n",
    "sns.scatterplot(x=df[~df['Per Person Price'].isna()]['Travel Date'], y=df[~df['Per Person Price'].isna()]['Per Person Price'])"
   ]
  },
  {
   "cell_type": "code",
   "execution_count": 11,
   "id": "existing-custom",
   "metadata": {},
   "outputs": [],
   "source": [
    "df.sort_values(\"Travel Date\", inplace=True)\n"
   ]
  },
  {
   "cell_type": "code",
   "execution_count": 12,
   "id": "frank-denmark",
   "metadata": {},
   "outputs": [],
   "source": [
    "df['package_type_price'] = df.groupby(\"Package Type\")['Per Person Price'].transform(lambda s: s.rolling(10, min_periods=1).mean())"
   ]
  },
  {
   "cell_type": "code",
   "execution_count": 13,
   "id": "exotic-passenger",
   "metadata": {},
   "outputs": [],
   "source": [
    "df['start_city_price'] = df.groupby(\"Start City\")['Per Person Price'].transform(lambda s: s.rolling(10, min_periods=1).mean())"
   ]
  },
  {
   "cell_type": "code",
   "execution_count": 14,
   "id": "brief-armor",
   "metadata": {},
   "outputs": [],
   "source": [
    "df.drop(columns=['Travel Date'], inplace=True)\n"
   ]
  },
  {
   "cell_type": "code",
   "execution_count": 15,
   "id": "spare-lending",
   "metadata": {},
   "outputs": [
    {
     "data": {
      "text/plain": [
       "(Index(['Uniq Id', 'Package Type', 'Start City', 'Flight Stops', 'Meals',\n",
       "        'Cancellation Rules', 'Per Person Price', 'destination_count',\n",
       "        'airlines_count', 'sightseeing_count', 'hotel_details_count',\n",
       "        'place_covered_count', 'itinerary_count', 'package_name_length',\n",
       "        'package_name_0', 'package_name_1', 'package_name_2', 'package_name_3',\n",
       "        'package_name_4', 'package_name_5', 'package_name_6', 'package_name_7',\n",
       "        'package_name_8', 'package_name_9', 'destination_0', 'destination_1',\n",
       "        'destination_2', 'destination_3', 'places_covered_0',\n",
       "        'places_covered_1', 'places_covered_2', 'places_covered_3',\n",
       "        'sight_seeing_places_covered_0', 'sight_seeing_places_covered_1',\n",
       "        'sight_seeing_places_covered_3', 'sight_seeing_places_covered_4',\n",
       "        'itinerary_0', 'itinerary_1', 'itinerary_2', 'itinerary_3',\n",
       "        'hotel_details_0', 'hotel_details_1', 'hotel_details_2',\n",
       "        'hotel_details_3', 'hotel_details_4', 'hotel_details_5',\n",
       "        'hotel_details_6', 'hotel_details_7', 'hotel_details_8',\n",
       "        'hotel_details_9', 'airline_0', 'airline_1', 'airline_2', 'airline_3',\n",
       "        'airline_4', 'package_type_price', 'start_city_price'],\n",
       "       dtype='object'),\n",
       " 57)"
      ]
     },
     "execution_count": 15,
     "metadata": {},
     "output_type": "execute_result"
    }
   ],
   "source": [
    "df.columns,len(df.columns)"
   ]
  },
  {
   "cell_type": "code",
   "execution_count": 17,
   "id": "casual-windsor",
   "metadata": {},
   "outputs": [],
   "source": [
    "df.to_csv(\"features.csv\", index=False)"
   ]
  },
  {
   "cell_type": "code",
   "execution_count": null,
   "id": "brave-check",
   "metadata": {},
   "outputs": [],
   "source": []
  }
 ],
 "metadata": {
  "kernelspec": {
   "display_name": "Python 3",
   "language": "python",
   "name": "python3"
  },
  "language_info": {
   "codemirror_mode": {
    "name": "ipython",
    "version": 3
   },
   "file_extension": ".py",
   "mimetype": "text/x-python",
   "name": "python",
   "nbconvert_exporter": "python",
   "pygments_lexer": "ipython3",
   "version": "3.7.7"
  }
 },
 "nbformat": 4,
 "nbformat_minor": 5
}
