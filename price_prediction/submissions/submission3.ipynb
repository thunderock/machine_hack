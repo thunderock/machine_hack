{
 "cells": [
  {
   "cell_type": "code",
   "execution_count": 1,
   "id": "dirty-france",
   "metadata": {},
   "outputs": [
    {
     "name": "stderr",
     "output_type": "stream",
     "text": [
      "/home/ashutosh/miniconda3/lib/python3.7/site-packages/ipykernel_launcher.py:22: FutureWarning: Passing a negative integer is deprecated in version 1.0 and will not be supported in future version. Instead, use None to not limit the column width.\n"
     ]
    }
   ],
   "source": [
    "\n",
    "import numpy as np\n",
    "import pandas as pd\n",
    "import os\n",
    "%matplotlib inline\n",
    "import matplotlib.pyplot as plt \n",
    "import seaborn as sns\n",
    "color = sns.color_palette()\n",
    "sns.set_style('darkgrid')\n",
    "from sklearn.metrics import mean_squared_error\n",
    "from sklearn.linear_model import LinearRegression\n",
    "from tqdm.notebook import tqdm\n",
    "from catboost import CatBoostRegressor\n",
    "from sklearn.ensemble import RandomForestRegressor\n",
    "from sklearn.preprocessing import StandardScaler, LabelEncoder, MinMaxScaler\n",
    "from sklearn.model_selection import train_test_split, KFold, StratifiedKFold, cross_val_score, RepeatedStratifiedKFold\n",
    "from sklearn import metrics\n",
    "import xgboost as xgb\n",
    "from sklearn.model_selection import GridSearchCV\n",
    "from sklearn.metrics import mean_squared_log_error\n",
    "from sklearn.model_selection import train_test_split\n",
    "from sklearn.metrics import make_scorer\n",
    "pd.set_option('display.max_colwidth', -1)\n",
    "tqdm.pandas()\n",
    "\n",
    "SEED=32\n",
    "submission_file = \"../Test.csv\"\n",
    "file = \"../features.csv\"\n",
    "BASELINE = 0.2364157534206991"
   ]
  },
  {
   "cell_type": "code",
   "execution_count": 2,
   "id": "intellectual-creek",
   "metadata": {},
   "outputs": [
    {
     "data": {
      "text/html": [
       "<div>\n",
       "<style scoped>\n",
       "    .dataframe tbody tr th:only-of-type {\n",
       "        vertical-align: middle;\n",
       "    }\n",
       "\n",
       "    .dataframe tbody tr th {\n",
       "        vertical-align: top;\n",
       "    }\n",
       "\n",
       "    .dataframe thead th {\n",
       "        text-align: right;\n",
       "    }\n",
       "</style>\n",
       "<table border=\"1\" class=\"dataframe\">\n",
       "  <thead>\n",
       "    <tr style=\"text-align: right;\">\n",
       "      <th></th>\n",
       "      <th>Uniq Id</th>\n",
       "      <th>Package Type</th>\n",
       "      <th>Start City</th>\n",
       "      <th>Flight Stops</th>\n",
       "      <th>Meals</th>\n",
       "      <th>Cancellation Rules</th>\n",
       "      <th>Per Person Price</th>\n",
       "      <th>destination_count</th>\n",
       "      <th>airlines_count</th>\n",
       "      <th>sightseeing_count</th>\n",
       "      <th>...</th>\n",
       "      <th>package_type_price_1000</th>\n",
       "      <th>start_city_price_100</th>\n",
       "      <th>start_city_price_1000</th>\n",
       "      <th>PT_AC</th>\n",
       "      <th>PT_DC</th>\n",
       "      <th>PT_SC</th>\n",
       "      <th>start_city_mean</th>\n",
       "      <th>start_city_sum</th>\n",
       "      <th>package_type_mean</th>\n",
       "      <th>package_type_sum</th>\n",
       "    </tr>\n",
       "  </thead>\n",
       "  <tbody>\n",
       "    <tr>\n",
       "      <th>0</th>\n",
       "      <td>349e0d65d7c0cd0ff250060d9df3d085</td>\n",
       "      <td>3</td>\n",
       "      <td>0</td>\n",
       "      <td>0</td>\n",
       "      <td>5</td>\n",
       "      <td>0</td>\n",
       "      <td>38311.0</td>\n",
       "      <td>4</td>\n",
       "      <td>2</td>\n",
       "      <td>23</td>\n",
       "      <td>...</td>\n",
       "      <td>38311.000000</td>\n",
       "      <td>38311.000000</td>\n",
       "      <td>38311.000000</td>\n",
       "      <td>21</td>\n",
       "      <td>24</td>\n",
       "      <td>6</td>\n",
       "      <td>20811.841682</td>\n",
       "      <td>151239653.5</td>\n",
       "      <td>23965.407006</td>\n",
       "      <td>133750936.5</td>\n",
       "    </tr>\n",
       "    <tr>\n",
       "      <th>1</th>\n",
       "      <td>179863780585016c62d8a7c274793076</td>\n",
       "      <td>4</td>\n",
       "      <td>1</td>\n",
       "      <td>2</td>\n",
       "      <td>3</td>\n",
       "      <td>5</td>\n",
       "      <td>9823.5</td>\n",
       "      <td>2</td>\n",
       "      <td>1</td>\n",
       "      <td>10</td>\n",
       "      <td>...</td>\n",
       "      <td>9823.500000</td>\n",
       "      <td>9823.500000</td>\n",
       "      <td>9823.500000</td>\n",
       "      <td>26</td>\n",
       "      <td>31</td>\n",
       "      <td>9</td>\n",
       "      <td>19661.128996</td>\n",
       "      <td>270006284.5</td>\n",
       "      <td>16354.089081</td>\n",
       "      <td>92711331.0</td>\n",
       "    </tr>\n",
       "    <tr>\n",
       "      <th>2</th>\n",
       "      <td>a0b099bcbc4e86c5505dc69464676d42</td>\n",
       "      <td>1</td>\n",
       "      <td>1</td>\n",
       "      <td>1</td>\n",
       "      <td>3</td>\n",
       "      <td>9</td>\n",
       "      <td>2868.0</td>\n",
       "      <td>1</td>\n",
       "      <td>1</td>\n",
       "      <td>1</td>\n",
       "      <td>...</td>\n",
       "      <td>2868.000000</td>\n",
       "      <td>6345.750000</td>\n",
       "      <td>6345.750000</td>\n",
       "      <td>4</td>\n",
       "      <td>5</td>\n",
       "      <td>3</td>\n",
       "      <td>19661.128996</td>\n",
       "      <td>270006284.5</td>\n",
       "      <td>18409.508825</td>\n",
       "      <td>110567510.0</td>\n",
       "    </tr>\n",
       "    <tr>\n",
       "      <th>3</th>\n",
       "      <td>3343f7bdcd11e2571c07ada0ca9ef968</td>\n",
       "      <td>3</td>\n",
       "      <td>1</td>\n",
       "      <td>0</td>\n",
       "      <td>5</td>\n",
       "      <td>9</td>\n",
       "      <td>21918.5</td>\n",
       "      <td>1</td>\n",
       "      <td>1</td>\n",
       "      <td>6</td>\n",
       "      <td>...</td>\n",
       "      <td>30114.750000</td>\n",
       "      <td>11536.666667</td>\n",
       "      <td>11536.666667</td>\n",
       "      <td>20</td>\n",
       "      <td>21</td>\n",
       "      <td>7</td>\n",
       "      <td>19661.128996</td>\n",
       "      <td>270006284.5</td>\n",
       "      <td>23965.407006</td>\n",
       "      <td>133750936.5</td>\n",
       "    </tr>\n",
       "    <tr>\n",
       "      <th>4</th>\n",
       "      <td>f7d70956ff8c3b8f39d213958f89bf2d</td>\n",
       "      <td>3</td>\n",
       "      <td>0</td>\n",
       "      <td>0</td>\n",
       "      <td>5</td>\n",
       "      <td>0</td>\n",
       "      <td>13827.5</td>\n",
       "      <td>1</td>\n",
       "      <td>1</td>\n",
       "      <td>5</td>\n",
       "      <td>...</td>\n",
       "      <td>24685.666667</td>\n",
       "      <td>26069.250000</td>\n",
       "      <td>26069.250000</td>\n",
       "      <td>20</td>\n",
       "      <td>21</td>\n",
       "      <td>6</td>\n",
       "      <td>20811.841682</td>\n",
       "      <td>151239653.5</td>\n",
       "      <td>23965.407006</td>\n",
       "      <td>133750936.5</td>\n",
       "    </tr>\n",
       "  </tbody>\n",
       "</table>\n",
       "<p>5 rows × 65 columns</p>\n",
       "</div>"
      ],
      "text/plain": [
       "                            Uniq Id  Package Type  Start City  Flight Stops  \\\n",
       "0  349e0d65d7c0cd0ff250060d9df3d085  3             0           0              \n",
       "1  179863780585016c62d8a7c274793076  4             1           2              \n",
       "2  a0b099bcbc4e86c5505dc69464676d42  1             1           1              \n",
       "3  3343f7bdcd11e2571c07ada0ca9ef968  3             1           0              \n",
       "4  f7d70956ff8c3b8f39d213958f89bf2d  3             0           0              \n",
       "\n",
       "   Meals  Cancellation Rules  Per Person Price  destination_count  \\\n",
       "0  5      0                   38311.0           4                   \n",
       "1  3      5                   9823.5            2                   \n",
       "2  3      9                   2868.0            1                   \n",
       "3  5      9                   21918.5           1                   \n",
       "4  5      0                   13827.5           1                   \n",
       "\n",
       "   airlines_count  sightseeing_count  ...  package_type_price_1000  \\\n",
       "0  2               23                 ...  38311.000000              \n",
       "1  1               10                 ...  9823.500000               \n",
       "2  1               1                  ...  2868.000000               \n",
       "3  1               6                  ...  30114.750000              \n",
       "4  1               5                  ...  24685.666667              \n",
       "\n",
       "   start_city_price_100  start_city_price_1000  PT_AC  PT_DC  PT_SC  \\\n",
       "0  38311.000000          38311.000000           21     24     6       \n",
       "1  9823.500000           9823.500000            26     31     9       \n",
       "2  6345.750000           6345.750000            4      5      3       \n",
       "3  11536.666667          11536.666667           20     21     7       \n",
       "4  26069.250000          26069.250000           20     21     6       \n",
       "\n",
       "   start_city_mean  start_city_sum  package_type_mean  package_type_sum  \n",
       "0  20811.841682     151239653.5     23965.407006       133750936.5       \n",
       "1  19661.128996     270006284.5     16354.089081       92711331.0        \n",
       "2  19661.128996     270006284.5     18409.508825       110567510.0       \n",
       "3  19661.128996     270006284.5     23965.407006       133750936.5       \n",
       "4  20811.841682     151239653.5     23965.407006       133750936.5       \n",
       "\n",
       "[5 rows x 65 columns]"
      ]
     },
     "execution_count": 2,
     "metadata": {},
     "output_type": "execute_result"
    }
   ],
   "source": [
    "df = pd.read_csv(file)\n",
    "# df.set_index(\"Uniq Id\", drop=True, inplace=True)\n",
    "df.head()"
   ]
  },
  {
   "cell_type": "code",
   "execution_count": 3,
   "id": "classified-experience",
   "metadata": {},
   "outputs": [
    {
     "data": {
      "text/plain": [
       "60"
      ]
     },
     "execution_count": 3,
     "metadata": {},
     "output_type": "execute_result"
    }
   ],
   "source": [
    "cat_cols = ['Package Type', 'Start City', 'Cancellation Rules',\n",
    "           'airline_0', 'airline_1', 'airline_2', 'airline_3',\n",
    "       'airline_4', \n",
    "           'PT_AC', 'PT_DC', 'PT_SC']\n",
    "reg_cols = ['Flight Stops', 'Meals', 'destination_count',\n",
    "       'airlines_count', 'sightseeing_count', 'hotel_details_count',\n",
    "       'place_covered_count', 'itinerary_count', 'package_name_length',\n",
    "           'package_name_0', 'package_name_1', 'package_name_2', 'package_name_3',\n",
    "       'package_name_4', 'package_name_5', 'package_name_6', 'package_name_7',\n",
    "       'package_name_8', 'package_name_9', 'destination_0', 'destination_1',\n",
    "       'destination_2', 'destination_3', 'places_covered_0',\n",
    "       'places_covered_1', 'places_covered_2', 'places_covered_3',\n",
    "       'sight_seeing_places_covered_0', 'sight_seeing_places_covered_1',\n",
    "       'sight_seeing_places_covered_3', 'sight_seeing_places_covered_4',\n",
    "       'itinerary_0', 'itinerary_1', 'itinerary_2', 'itinerary_3',\n",
    "       'hotel_details_0', 'hotel_details_1', 'hotel_details_2',\n",
    "       'hotel_details_3', 'hotel_details_4', 'hotel_details_5',\n",
    "       'hotel_details_6', 'hotel_details_7', \n",
    "#             'hotel_details_8','hotel_details_9', \n",
    "            'Itinerary_night_count', 'start_city_mean',\n",
    "            'start_city_sum', 'package_type_mean', 'package_type_sum']\n",
    "#             'package_type_price_100','package_type_price_1000', \n",
    "#             'start_city_price_100', 'start_city_price_1000']\n",
    "\n",
    "target_col = 'Per Person Price'\n",
    "\n",
    "len(cat_cols) + len(reg_cols) + 1"
   ]
  },
  {
   "cell_type": "code",
   "execution_count": 4,
   "id": "invalid-lighter",
   "metadata": {},
   "outputs": [],
   "source": [
    "df[reg_cols] = MinMaxScaler().fit_transform(df[reg_cols])\n",
    "# df[reg_cols]"
   ]
  },
  {
   "cell_type": "code",
   "execution_count": 5,
   "id": "guilty-standard",
   "metadata": {},
   "outputs": [],
   "source": [
    "tdf = df[df[target_col].isna()].copy()\n",
    "df = df[~df[target_col].isna()].copy()\n",
    "df, vdf = train_test_split(df, test_size=.2, random_state=SEED)\n"
   ]
  },
  {
   "cell_type": "code",
   "execution_count": 6,
   "id": "opened-rapid",
   "metadata": {},
   "outputs": [],
   "source": [
    "\n",
    "\n",
    "class CatBoost(object):\n",
    "    def __init__(self):\n",
    "        self.model = CatBoostRegressor(random_state =SEED, task_type=\"GPU\", devices='0:1', \n",
    "                           eval_metric='MSLE', thread_count=8, \n",
    "                           cat_features=cat_cols,\n",
    "                           od_type='Iter', od_wait=10)\n",
    "    \n",
    "    def fit(self, dframe):\n",
    "        grid = {\n",
    "            'max_depth': [6, 8, 10, 12], \n",
    "            'iterations': [100, 200],\n",
    "            'learning_rate': [.1, .2, .3]\n",
    "        }\n",
    "        grid_search_result= self.model.grid_search(\n",
    "                                grid, \n",
    "                               X=dframe[cat_cols + reg_cols], \n",
    "                               y=dframe[target_col], \n",
    "                               shuffle=True, stratified=False, \n",
    "                               verbose=False, plot=False,  refit=True\n",
    "                              )\n",
    "        print(grid_search_result['params'])\n",
    "        return self.model\n",
    "    \n",
    "\n"
   ]
  },
  {
   "cell_type": "code",
   "execution_count": 7,
   "id": "naval-thesaurus",
   "metadata": {},
   "outputs": [
    {
     "name": "stderr",
     "output_type": "stream",
     "text": [
      "/home/ashutosh/miniconda3/lib/python3.7/site-packages/sklearn/model_selection/_split.py:297: FutureWarning: Setting a random_state has no effect since shuffle is False. This will raise an error in 0.24. You should leave random_state to its default (None), or set shuffle=True.\n",
      "  FutureWarning\n"
     ]
    }
   ],
   "source": [
    "\n",
    "def rmsle(true, preds):\n",
    "    return np.sqrt(mean_squared_log_error(true, preds))\n",
    "\n",
    "scorer = make_scorer(rmsle, greater_is_better=False)\n",
    "fold = KFold(n_splits=3, shuffle=False, random_state=SEED)\n",
    "\n",
    "def evaluate_model(m, value=None):\n",
    "    if not value:\n",
    "        preds = m.predict(vdf[cat_cols + reg_cols])\n",
    "    else:\n",
    "        preds = m.predict(vdf[cat_cols + reg_cols].values)\n",
    "    true = vdf[target_col]\n",
    "    return rmsle(true, preds)\n"
   ]
  },
  {
   "cell_type": "code",
   "execution_count": 8,
   "id": "contained-metabolism",
   "metadata": {},
   "outputs": [],
   "source": [
    "class RandomForest(object):\n",
    "    def __init__(self):\n",
    "        self.model = RandomForestRegressor(random_state=SEED)\n",
    "    \n",
    "    def fit(self, dframe):\n",
    "        parameters = {\n",
    "            'oob_score': [False],\n",
    "            'n_estimators': [800, 900 ,1000]\n",
    "        }\n",
    "        clf = GridSearchCV(self.model, parameters, cv=3, refit=True, n_jobs=-1, verbose=3, scoring=scorer)\n",
    "        clf.fit(dframe[cat_cols + reg_cols].values, dframe[target_col].values)\n",
    "        print(self.__class__, clf.best_params_)\n",
    "        return clf\n",
    "\n",
    "class XGBoost(object):\n",
    "    def __init__(self):\n",
    "        self.model = xgb.XGBRegressor(gamma=0, subsample=0.8, colsample_bytree=0.8)\n",
    "        \n",
    "    def fit(self, dframe, parameters=None):\n",
    "        parameters = parameters if parameters else {\n",
    "            'max_depth':[9],\n",
    "            'min_child_weight':[6],\n",
    "            'learning_rate': [.1, .01],\n",
    "            'n_estimators': [900, 1000, 1100, 1200, 1300, 1400, 1500, 1600]\n",
    "        } \n",
    "        clf = GridSearchCV(self.model, parameters, cv=fold, \n",
    "                           refit=True, n_jobs=-1, verbose=10, \n",
    "                           scoring=scorer)\n",
    "        clf.fit(dframe[cat_cols + reg_cols].values, dframe[target_col].values)\n",
    "        print(self.__class__, clf.best_params_)\n",
    "#         print(clf.cv_results_)\n",
    "        return clf"
   ]
  },
  {
   "cell_type": "code",
   "execution_count": 9,
   "id": "outside-tuesday",
   "metadata": {},
   "outputs": [
    {
     "name": "stderr",
     "output_type": "stream",
     "text": [
      "Metric MSLE is not implemented on GPU. Will use CPU for metric computation, this could significantly affect learning time\n"
     ]
    },
    {
     "name": "stdout",
     "output_type": "stream",
     "text": [
      "bestTest = 0.107538307\n",
      "bestIteration = 99\n"
     ]
    },
    {
     "name": "stderr",
     "output_type": "stream",
     "text": [
      "Metric MSLE is not implemented on GPU. Will use CPU for metric computation, this could significantly affect learning time\n"
     ]
    },
    {
     "name": "stdout",
     "output_type": "stream",
     "text": [
      "bestTest = 0.1002595339\n",
      "bestIteration = 99\n"
     ]
    },
    {
     "name": "stderr",
     "output_type": "stream",
     "text": [
      "Metric MSLE is not implemented on GPU. Will use CPU for metric computation, this could significantly affect learning time\n"
     ]
    },
    {
     "name": "stdout",
     "output_type": "stream",
     "text": [
      "bestTest = 0.1013879756\n",
      "bestIteration = 76\n"
     ]
    },
    {
     "name": "stderr",
     "output_type": "stream",
     "text": [
      "Metric MSLE is not implemented on GPU. Will use CPU for metric computation, this could significantly affect learning time\n"
     ]
    },
    {
     "name": "stdout",
     "output_type": "stream",
     "text": [
      "bestTest = 0.1094958833\n",
      "bestIteration = 199\n"
     ]
    },
    {
     "name": "stderr",
     "output_type": "stream",
     "text": [
      "Metric MSLE is not implemented on GPU. Will use CPU for metric computation, this could significantly affect learning time\n"
     ]
    },
    {
     "name": "stdout",
     "output_type": "stream",
     "text": [
      "bestTest = 0.140485257\n",
      "bestIteration = 11\n"
     ]
    },
    {
     "name": "stderr",
     "output_type": "stream",
     "text": [
      "Metric MSLE is not implemented on GPU. Will use CPU for metric computation, this could significantly affect learning time\n"
     ]
    },
    {
     "name": "stdout",
     "output_type": "stream",
     "text": [
      "bestTest = 0.1018727938\n",
      "bestIteration = 117\n"
     ]
    },
    {
     "name": "stderr",
     "output_type": "stream",
     "text": [
      "Metric MSLE is not implemented on GPU. Will use CPU for metric computation, this could significantly affect learning time\n"
     ]
    },
    {
     "name": "stdout",
     "output_type": "stream",
     "text": [
      "bestTest = 0.1202740357\n",
      "bestIteration = 99\n"
     ]
    },
    {
     "name": "stderr",
     "output_type": "stream",
     "text": [
      "Metric MSLE is not implemented on GPU. Will use CPU for metric computation, this could significantly affect learning time\n"
     ]
    },
    {
     "name": "stdout",
     "output_type": "stream",
     "text": [
      "bestTest = 0.1054284519\n",
      "bestIteration = 95\n"
     ]
    },
    {
     "name": "stderr",
     "output_type": "stream",
     "text": [
      "Metric MSLE is not implemented on GPU. Will use CPU for metric computation, this could significantly affect learning time\n"
     ]
    },
    {
     "name": "stdout",
     "output_type": "stream",
     "text": [
      "bestTest = 0.09887341523\n",
      "bestIteration = 79\n"
     ]
    },
    {
     "name": "stderr",
     "output_type": "stream",
     "text": [
      "Metric MSLE is not implemented on GPU. Will use CPU for metric computation, this could significantly affect learning time\n"
     ]
    },
    {
     "name": "stdout",
     "output_type": "stream",
     "text": [
      "bestTest = 0.1317660377\n",
      "bestIteration = 25\n"
     ]
    },
    {
     "name": "stderr",
     "output_type": "stream",
     "text": [
      "Metric MSLE is not implemented on GPU. Will use CPU for metric computation, this could significantly affect learning time\n"
     ]
    },
    {
     "name": "stdout",
     "output_type": "stream",
     "text": [
      "bestTest = 0.1276646135\n",
      "bestIteration = 17\n"
     ]
    },
    {
     "name": "stderr",
     "output_type": "stream",
     "text": [
      "Metric MSLE is not implemented on GPU. Will use CPU for metric computation, this could significantly affect learning time\n"
     ]
    },
    {
     "name": "stdout",
     "output_type": "stream",
     "text": [
      "bestTest = 0.09620192074\n",
      "bestIteration = 111\n"
     ]
    },
    {
     "name": "stderr",
     "output_type": "stream",
     "text": [
      "Metric MSLE is not implemented on GPU. Will use CPU for metric computation, this could significantly affect learning time\n"
     ]
    },
    {
     "name": "stdout",
     "output_type": "stream",
     "text": [
      "bestTest = 0.1137349018\n",
      "bestIteration = 99\n"
     ]
    },
    {
     "name": "stderr",
     "output_type": "stream",
     "text": [
      "Metric MSLE is not implemented on GPU. Will use CPU for metric computation, this could significantly affect learning time\n"
     ]
    },
    {
     "name": "stdout",
     "output_type": "stream",
     "text": [
      "bestTest = 0.09991931665\n",
      "bestIteration = 99\n"
     ]
    },
    {
     "name": "stderr",
     "output_type": "stream",
     "text": [
      "Metric MSLE is not implemented on GPU. Will use CPU for metric computation, this could significantly affect learning time\n"
     ]
    },
    {
     "name": "stdout",
     "output_type": "stream",
     "text": [
      "bestTest = 0.1000858689\n",
      "bestIteration = 71\n"
     ]
    },
    {
     "name": "stderr",
     "output_type": "stream",
     "text": [
      "Metric MSLE is not implemented on GPU. Will use CPU for metric computation, this could significantly affect learning time\n"
     ]
    },
    {
     "name": "stdout",
     "output_type": "stream",
     "text": [
      "bestTest = 0.1112865073\n",
      "bestIteration = 198\n"
     ]
    },
    {
     "name": "stderr",
     "output_type": "stream",
     "text": [
      "Metric MSLE is not implemented on GPU. Will use CPU for metric computation, this could significantly affect learning time\n"
     ]
    },
    {
     "name": "stdout",
     "output_type": "stream",
     "text": [
      "bestTest = 0.1306857764\n",
      "bestIteration = 9\n"
     ]
    },
    {
     "name": "stderr",
     "output_type": "stream",
     "text": [
      "Metric MSLE is not implemented on GPU. Will use CPU for metric computation, this could significantly affect learning time\n"
     ]
    },
    {
     "name": "stdout",
     "output_type": "stream",
     "text": [
      "bestTest = 0.09982696278\n",
      "bestIteration = 90\n"
     ]
    },
    {
     "name": "stderr",
     "output_type": "stream",
     "text": [
      "Metric MSLE is not implemented on GPU. Will use CPU for metric computation, this could significantly affect learning time\n"
     ]
    },
    {
     "name": "stdout",
     "output_type": "stream",
     "text": [
      "bestTest = 0.1111305651\n",
      "bestIteration = 98\n"
     ]
    },
    {
     "name": "stderr",
     "output_type": "stream",
     "text": [
      "Metric MSLE is not implemented on GPU. Will use CPU for metric computation, this could significantly affect learning time\n"
     ]
    },
    {
     "name": "stdout",
     "output_type": "stream",
     "text": [
      "bestTest = 0.09895300951\n",
      "bestIteration = 99\n"
     ]
    },
    {
     "name": "stderr",
     "output_type": "stream",
     "text": [
      "Metric MSLE is not implemented on GPU. Will use CPU for metric computation, this could significantly affect learning time\n"
     ]
    },
    {
     "name": "stdout",
     "output_type": "stream",
     "text": [
      "bestTest = 0.09516509586\n",
      "bestIteration = 99\n"
     ]
    },
    {
     "name": "stderr",
     "output_type": "stream",
     "text": [
      "Metric MSLE is not implemented on GPU. Will use CPU for metric computation, this could significantly affect learning time\n"
     ]
    },
    {
     "name": "stdout",
     "output_type": "stream",
     "text": [
      "bestTest = 0.119513406\n",
      "bestIteration = 41\n"
     ]
    },
    {
     "name": "stderr",
     "output_type": "stream",
     "text": [
      "Metric MSLE is not implemented on GPU. Will use CPU for metric computation, this could significantly affect learning time\n"
     ]
    },
    {
     "name": "stdout",
     "output_type": "stream",
     "text": [
      "bestTest = 0.1024247845\n",
      "bestIteration = 114\n"
     ]
    },
    {
     "name": "stderr",
     "output_type": "stream",
     "text": [
      "Metric MSLE is not implemented on GPU. Will use CPU for metric computation, this could significantly affect learning time\n"
     ]
    },
    {
     "name": "stdout",
     "output_type": "stream",
     "text": [
      "bestTest = 0.1109337243\n",
      "bestIteration = 44\n"
     ]
    },
    {
     "name": "stderr",
     "output_type": "stream",
     "text": [
      "Metric MSLE is not implemented on GPU. Will use CPU for metric computation, this could significantly affect learning time\n",
      "Metric MSLE is not implemented on GPU. Will use CPU for metric computation, this could significantly affect learning time\n",
      "Metric MSLE is not implemented on GPU. Will use CPU for metric computation, this could significantly affect learning time\n",
      "Metric MSLE is not implemented on GPU. Will use CPU for metric computation, this could significantly affect learning time\n",
      "Metric MSLE is not implemented on GPU. Will use CPU for metric computation, this could significantly affect learning time\n",
      "Metric MSLE is not implemented on GPU. Will use CPU for metric computation, this could significantly affect learning time\n",
      "Metric MSLE is not implemented on GPU. Will use CPU for metric computation, this could significantly affect learning time\n",
      "Metric MSLE is not implemented on GPU. Will use CPU for metric computation, this could significantly affect learning time\n",
      "Metric MSLE is not implemented on GPU. Will use CPU for metric computation, this could significantly affect learning time\n",
      "Metric MSLE is not implemented on GPU. Will use CPU for metric computation, this could significantly affect learning time\n"
     ]
    },
    {
     "name": "stdout",
     "output_type": "stream",
     "text": [
      "{'depth': 12, 'iterations': 100, 'learning_rate': 0.3}\n",
      "<class 'catboost.core.CatBoostRegressor'> 0.23608667388119986\n",
      "Fitting 3 folds for each of 16 candidates, totalling 48 fits\n"
     ]
    },
    {
     "name": "stderr",
     "output_type": "stream",
     "text": [
      "[Parallel(n_jobs=-1)]: Using backend LokyBackend with 8 concurrent workers.\n",
      "[Parallel(n_jobs=-1)]: Done   2 tasks      | elapsed:  2.5min\n",
      "[Parallel(n_jobs=-1)]: Done   9 tasks      | elapsed:  5.2min\n",
      "[Parallel(n_jobs=-1)]: Done  16 tasks      | elapsed:  6.5min\n",
      "[Parallel(n_jobs=-1)]: Done  25 tasks      | elapsed: 10.7min\n",
      "[Parallel(n_jobs=-1)]: Done  38 out of  48 | elapsed: 15.2min remaining:  4.0min\n",
      "[Parallel(n_jobs=-1)]: Done  43 out of  48 | elapsed: 17.3min remaining:  2.0min\n",
      "[Parallel(n_jobs=-1)]: Done  48 out of  48 | elapsed: 18.5min remaining:    0.0s\n",
      "[Parallel(n_jobs=-1)]: Done  48 out of  48 | elapsed: 18.5min finished\n"
     ]
    },
    {
     "name": "stdout",
     "output_type": "stream",
     "text": [
      "<class '__main__.XGBoost'> {'learning_rate': 0.01, 'max_depth': 9, 'min_child_weight': 6, 'n_estimators': 1600}\n",
      "0.212518232846653\n"
     ]
    }
   ],
   "source": [
    "model = CatBoost().fit(df)\n",
    "print(model.__class__, evaluate_model(model, value=False))\n",
    "# model = XGBoost().fit(df)\n",
    "model = XGBoost().fit(df)\n",
    "\n",
    "print(evaluate_model(model, value=True))\n",
    "# model = XGBoost().fit(df, \n",
    "#                       {'learning_rate': [0.1], 'max_depth': [9], 'min_child_weight': [6], 'n_estimators': [1100]})\n",
    "\n",
    "# print(1100, evaluate_model(model, value=True))\n",
    "# model = XGBoost().fit(df, \n",
    "#                       {'learning_rate': [0.1], 'max_depth': [9], 'min_child_weight': [6], 'n_estimators': [1200]})\n",
    "\n",
    "# print(1200, evaluate_model(model, value=True))\n",
    "\n",
    "# model = RandomForest().fit(df)\n",
    "\n",
    "# print(model.__class__, evaluate_model(model, value=True))\n"
   ]
  },
  {
   "cell_type": "code",
   "execution_count": 10,
   "id": "practical-jason",
   "metadata": {},
   "outputs": [
    {
     "data": {
      "text/html": [
       "<div>\n",
       "<style scoped>\n",
       "    .dataframe tbody tr th:only-of-type {\n",
       "        vertical-align: middle;\n",
       "    }\n",
       "\n",
       "    .dataframe tbody tr th {\n",
       "        vertical-align: top;\n",
       "    }\n",
       "\n",
       "    .dataframe thead th {\n",
       "        text-align: right;\n",
       "    }\n",
       "</style>\n",
       "<table border=\"1\" class=\"dataframe\">\n",
       "  <thead>\n",
       "    <tr style=\"text-align: right;\">\n",
       "      <th></th>\n",
       "      <th>params</th>\n",
       "      <th>rank_test_score</th>\n",
       "      <th>mean_test_score</th>\n",
       "      <th>std_test_score</th>\n",
       "    </tr>\n",
       "    <tr>\n",
       "      <th>kernel</th>\n",
       "      <th></th>\n",
       "      <th></th>\n",
       "      <th></th>\n",
       "      <th></th>\n",
       "    </tr>\n",
       "  </thead>\n",
       "  <tbody>\n",
       "    <tr>\n",
       "      <th>0.01_9_6_1600</th>\n",
       "      <td>{'learning_rate': 0.01, 'max_depth': 9, 'min_child_weight': 6, 'n_estimators': 1600}</td>\n",
       "      <td>1</td>\n",
       "      <td>-0.218059</td>\n",
       "      <td>0.000922</td>\n",
       "    </tr>\n",
       "    <tr>\n",
       "      <th>0.01_9_6_1500</th>\n",
       "      <td>{'learning_rate': 0.01, 'max_depth': 9, 'min_child_weight': 6, 'n_estimators': 1500}</td>\n",
       "      <td>2</td>\n",
       "      <td>-0.218503</td>\n",
       "      <td>0.001026</td>\n",
       "    </tr>\n",
       "    <tr>\n",
       "      <th>0.01_9_6_1400</th>\n",
       "      <td>{'learning_rate': 0.01, 'max_depth': 9, 'min_child_weight': 6, 'n_estimators': 1400}</td>\n",
       "      <td>3</td>\n",
       "      <td>-0.218880</td>\n",
       "      <td>0.001134</td>\n",
       "    </tr>\n",
       "    <tr>\n",
       "      <th>0.01_9_6_1300</th>\n",
       "      <td>{'learning_rate': 0.01, 'max_depth': 9, 'min_child_weight': 6, 'n_estimators': 1300}</td>\n",
       "      <td>4</td>\n",
       "      <td>-0.219361</td>\n",
       "      <td>0.001124</td>\n",
       "    </tr>\n",
       "    <tr>\n",
       "      <th>0.01_9_6_1200</th>\n",
       "      <td>{'learning_rate': 0.01, 'max_depth': 9, 'min_child_weight': 6, 'n_estimators': 1200}</td>\n",
       "      <td>5</td>\n",
       "      <td>-0.219961</td>\n",
       "      <td>0.001229</td>\n",
       "    </tr>\n",
       "    <tr>\n",
       "      <th>0.01_9_6_1100</th>\n",
       "      <td>{'learning_rate': 0.01, 'max_depth': 9, 'min_child_weight': 6, 'n_estimators': 1100}</td>\n",
       "      <td>6</td>\n",
       "      <td>-0.220694</td>\n",
       "      <td>0.001315</td>\n",
       "    </tr>\n",
       "    <tr>\n",
       "      <th>0.01_9_6_1000</th>\n",
       "      <td>{'learning_rate': 0.01, 'max_depth': 9, 'min_child_weight': 6, 'n_estimators': 1000}</td>\n",
       "      <td>7</td>\n",
       "      <td>-0.221484</td>\n",
       "      <td>0.001328</td>\n",
       "    </tr>\n",
       "    <tr>\n",
       "      <th>0.01_9_6_900</th>\n",
       "      <td>{'learning_rate': 0.01, 'max_depth': 9, 'min_child_weight': 6, 'n_estimators': 900}</td>\n",
       "      <td>8</td>\n",
       "      <td>-0.222387</td>\n",
       "      <td>0.001414</td>\n",
       "    </tr>\n",
       "    <tr>\n",
       "      <th>0.1_9_6_900</th>\n",
       "      <td>{'learning_rate': 0.1, 'max_depth': 9, 'min_child_weight': 6, 'n_estimators': 900}</td>\n",
       "      <td>9</td>\n",
       "      <td>-0.226500</td>\n",
       "      <td>0.001180</td>\n",
       "    </tr>\n",
       "    <tr>\n",
       "      <th>0.1_9_6_1600</th>\n",
       "      <td>{'learning_rate': 0.1, 'max_depth': 9, 'min_child_weight': 6, 'n_estimators': 1600}</td>\n",
       "      <td>10</td>\n",
       "      <td>-0.226501</td>\n",
       "      <td>0.001178</td>\n",
       "    </tr>\n",
       "    <tr>\n",
       "      <th>0.1_9_6_1100</th>\n",
       "      <td>{'learning_rate': 0.1, 'max_depth': 9, 'min_child_weight': 6, 'n_estimators': 1100}</td>\n",
       "      <td>11</td>\n",
       "      <td>-0.226501</td>\n",
       "      <td>0.001178</td>\n",
       "    </tr>\n",
       "    <tr>\n",
       "      <th>0.1_9_6_1500</th>\n",
       "      <td>{'learning_rate': 0.1, 'max_depth': 9, 'min_child_weight': 6, 'n_estimators': 1500}</td>\n",
       "      <td>12</td>\n",
       "      <td>-0.226502</td>\n",
       "      <td>0.001179</td>\n",
       "    </tr>\n",
       "    <tr>\n",
       "      <th>0.1_9_6_1200</th>\n",
       "      <td>{'learning_rate': 0.1, 'max_depth': 9, 'min_child_weight': 6, 'n_estimators': 1200}</td>\n",
       "      <td>13</td>\n",
       "      <td>-0.226502</td>\n",
       "      <td>0.001179</td>\n",
       "    </tr>\n",
       "    <tr>\n",
       "      <th>0.1_9_6_1300</th>\n",
       "      <td>{'learning_rate': 0.1, 'max_depth': 9, 'min_child_weight': 6, 'n_estimators': 1300}</td>\n",
       "      <td>14</td>\n",
       "      <td>-0.226502</td>\n",
       "      <td>0.001178</td>\n",
       "    </tr>\n",
       "    <tr>\n",
       "      <th>0.1_9_6_1400</th>\n",
       "      <td>{'learning_rate': 0.1, 'max_depth': 9, 'min_child_weight': 6, 'n_estimators': 1400}</td>\n",
       "      <td>15</td>\n",
       "      <td>-0.226502</td>\n",
       "      <td>0.001178</td>\n",
       "    </tr>\n",
       "    <tr>\n",
       "      <th>0.1_9_6_1000</th>\n",
       "      <td>{'learning_rate': 0.1, 'max_depth': 9, 'min_child_weight': 6, 'n_estimators': 1000}</td>\n",
       "      <td>16</td>\n",
       "      <td>-0.226503</td>\n",
       "      <td>0.001178</td>\n",
       "    </tr>\n",
       "  </tbody>\n",
       "</table>\n",
       "</div>"
      ],
      "text/plain": [
       "                                                                                             params  \\\n",
       "kernel                                                                                                \n",
       "0.01_9_6_1600  {'learning_rate': 0.01, 'max_depth': 9, 'min_child_weight': 6, 'n_estimators': 1600}   \n",
       "0.01_9_6_1500  {'learning_rate': 0.01, 'max_depth': 9, 'min_child_weight': 6, 'n_estimators': 1500}   \n",
       "0.01_9_6_1400  {'learning_rate': 0.01, 'max_depth': 9, 'min_child_weight': 6, 'n_estimators': 1400}   \n",
       "0.01_9_6_1300  {'learning_rate': 0.01, 'max_depth': 9, 'min_child_weight': 6, 'n_estimators': 1300}   \n",
       "0.01_9_6_1200  {'learning_rate': 0.01, 'max_depth': 9, 'min_child_weight': 6, 'n_estimators': 1200}   \n",
       "0.01_9_6_1100  {'learning_rate': 0.01, 'max_depth': 9, 'min_child_weight': 6, 'n_estimators': 1100}   \n",
       "0.01_9_6_1000  {'learning_rate': 0.01, 'max_depth': 9, 'min_child_weight': 6, 'n_estimators': 1000}   \n",
       "0.01_9_6_900   {'learning_rate': 0.01, 'max_depth': 9, 'min_child_weight': 6, 'n_estimators': 900}    \n",
       "0.1_9_6_900    {'learning_rate': 0.1, 'max_depth': 9, 'min_child_weight': 6, 'n_estimators': 900}     \n",
       "0.1_9_6_1600   {'learning_rate': 0.1, 'max_depth': 9, 'min_child_weight': 6, 'n_estimators': 1600}    \n",
       "0.1_9_6_1100   {'learning_rate': 0.1, 'max_depth': 9, 'min_child_weight': 6, 'n_estimators': 1100}    \n",
       "0.1_9_6_1500   {'learning_rate': 0.1, 'max_depth': 9, 'min_child_weight': 6, 'n_estimators': 1500}    \n",
       "0.1_9_6_1200   {'learning_rate': 0.1, 'max_depth': 9, 'min_child_weight': 6, 'n_estimators': 1200}    \n",
       "0.1_9_6_1300   {'learning_rate': 0.1, 'max_depth': 9, 'min_child_weight': 6, 'n_estimators': 1300}    \n",
       "0.1_9_6_1400   {'learning_rate': 0.1, 'max_depth': 9, 'min_child_weight': 6, 'n_estimators': 1400}    \n",
       "0.1_9_6_1000   {'learning_rate': 0.1, 'max_depth': 9, 'min_child_weight': 6, 'n_estimators': 1000}    \n",
       "\n",
       "               rank_test_score  mean_test_score  std_test_score  \n",
       "kernel                                                           \n",
       "0.01_9_6_1600  1               -0.218059         0.000922        \n",
       "0.01_9_6_1500  2               -0.218503         0.001026        \n",
       "0.01_9_6_1400  3               -0.218880         0.001134        \n",
       "0.01_9_6_1300  4               -0.219361         0.001124        \n",
       "0.01_9_6_1200  5               -0.219961         0.001229        \n",
       "0.01_9_6_1100  6               -0.220694         0.001315        \n",
       "0.01_9_6_1000  7               -0.221484         0.001328        \n",
       "0.01_9_6_900   8               -0.222387         0.001414        \n",
       "0.1_9_6_900    9               -0.226500         0.001180        \n",
       "0.1_9_6_1600   10              -0.226501         0.001178        \n",
       "0.1_9_6_1100   11              -0.226501         0.001178        \n",
       "0.1_9_6_1500   12              -0.226502         0.001179        \n",
       "0.1_9_6_1200   13              -0.226502         0.001179        \n",
       "0.1_9_6_1300   14              -0.226502         0.001178        \n",
       "0.1_9_6_1400   15              -0.226502         0.001178        \n",
       "0.1_9_6_1000   16              -0.226503         0.001178        "
      ]
     },
     "execution_count": 10,
     "metadata": {},
     "output_type": "execute_result"
    }
   ],
   "source": [
    "results_df = pd.DataFrame(model.cv_results_)\n",
    "results_df = results_df.sort_values(by=['rank_test_score'])\n",
    "results_df = (\n",
    "    results_df\n",
    "    .set_index(results_df[\"params\"].apply(\n",
    "        lambda x: \"_\".join(str(val) for val in x.values()))\n",
    "    )\n",
    "    .rename_axis('kernel')\n",
    ")\n",
    "results_df[\n",
    "    ['params', 'rank_test_score', 'mean_test_score', 'std_test_score']\n",
    "]"
   ]
  },
  {
   "cell_type": "code",
   "execution_count": 13,
   "id": "actual-least",
   "metadata": {},
   "outputs": [
    {
     "data": {
      "text/html": [
       "<div>\n",
       "<style scoped>\n",
       "    .dataframe tbody tr th:only-of-type {\n",
       "        vertical-align: middle;\n",
       "    }\n",
       "\n",
       "    .dataframe tbody tr th {\n",
       "        vertical-align: top;\n",
       "    }\n",
       "\n",
       "    .dataframe thead th {\n",
       "        text-align: right;\n",
       "    }\n",
       "</style>\n",
       "<table border=\"1\" class=\"dataframe\">\n",
       "  <thead>\n",
       "    <tr style=\"text-align: right;\">\n",
       "      <th></th>\n",
       "      <th>Uniq Id</th>\n",
       "    </tr>\n",
       "  </thead>\n",
       "  <tbody>\n",
       "    <tr>\n",
       "      <th>0</th>\n",
       "      <td>12c47aefbcca65d6156ba0bc7946704b</td>\n",
       "    </tr>\n",
       "    <tr>\n",
       "      <th>1</th>\n",
       "      <td>156febf7d27315ae9f210ed13bca3ac2</td>\n",
       "    </tr>\n",
       "    <tr>\n",
       "      <th>2</th>\n",
       "      <td>a7f43314e3ee6464a4e35b874bddf2ea</td>\n",
       "    </tr>\n",
       "    <tr>\n",
       "      <th>3</th>\n",
       "      <td>d9cc4b407f3d5d290560c03d9ac71035</td>\n",
       "    </tr>\n",
       "    <tr>\n",
       "      <th>4</th>\n",
       "      <td>b3bbc8aa6429feb260e9ac0a91f252c4</td>\n",
       "    </tr>\n",
       "    <tr>\n",
       "      <th>...</th>\n",
       "      <td>...</td>\n",
       "    </tr>\n",
       "    <tr>\n",
       "      <th>8995</th>\n",
       "      <td>75171484ea20440a5c08fe040a9a01a7</td>\n",
       "    </tr>\n",
       "    <tr>\n",
       "      <th>8996</th>\n",
       "      <td>16f57cebfb653f2c532314322598ca3a</td>\n",
       "    </tr>\n",
       "    <tr>\n",
       "      <th>8997</th>\n",
       "      <td>477f8b3f07e1a6c027152e2cd5d67e4a</td>\n",
       "    </tr>\n",
       "    <tr>\n",
       "      <th>8998</th>\n",
       "      <td>c9ce916ec5e1b93134a2f84090284bf9</td>\n",
       "    </tr>\n",
       "    <tr>\n",
       "      <th>8999</th>\n",
       "      <td>63f248718bd829ec8a3d234f85637734</td>\n",
       "    </tr>\n",
       "  </tbody>\n",
       "</table>\n",
       "<p>9000 rows × 1 columns</p>\n",
       "</div>"
      ],
      "text/plain": [
       "                               Uniq Id\n",
       "0     12c47aefbcca65d6156ba0bc7946704b\n",
       "1     156febf7d27315ae9f210ed13bca3ac2\n",
       "2     a7f43314e3ee6464a4e35b874bddf2ea\n",
       "3     d9cc4b407f3d5d290560c03d9ac71035\n",
       "4     b3bbc8aa6429feb260e9ac0a91f252c4\n",
       "...                                ...\n",
       "8995  75171484ea20440a5c08fe040a9a01a7\n",
       "8996  16f57cebfb653f2c532314322598ca3a\n",
       "8997  477f8b3f07e1a6c027152e2cd5d67e4a\n",
       "8998  c9ce916ec5e1b93134a2f84090284bf9\n",
       "8999  63f248718bd829ec8a3d234f85637734\n",
       "\n",
       "[9000 rows x 1 columns]"
      ]
     },
     "execution_count": 13,
     "metadata": {},
     "output_type": "execute_result"
    }
   ],
   "source": [
    "result = pd.read_csv(submission_file)[['Uniq Id']]\n",
    "result"
   ]
  },
  {
   "cell_type": "code",
   "execution_count": 14,
   "id": "rental-teacher",
   "metadata": {},
   "outputs": [
    {
     "name": "stdout",
     "output_type": "stream",
     "text": [
      "Fitting 3 folds for each of 1 candidates, totalling 3 fits\n"
     ]
    },
    {
     "name": "stderr",
     "output_type": "stream",
     "text": [
      "[Parallel(n_jobs=-1)]: Using backend LokyBackend with 8 concurrent workers.\n",
      "[Parallel(n_jobs=-1)]: Done   3 out of   3 | elapsed:  2.2min remaining:    0.0s\n",
      "[Parallel(n_jobs=-1)]: Done   3 out of   3 | elapsed:  2.2min finished\n"
     ]
    },
    {
     "name": "stdout",
     "output_type": "stream",
     "text": [
      "<class '__main__.XGBoost'> {'learning_rate': 0.01, 'max_depth': 9, 'min_child_weight': 6, 'n_estimators': 1600}\n"
     ]
    }
   ],
   "source": [
    "model = XGBoost().fit(pd.concat([df, vdf]), \n",
    "                      {'learning_rate': [0.01], 'max_depth': [9], 'min_child_weight': [6], 'n_estimators': [1600]})\n",
    "# print(evaluate_model(model, value=True))"
   ]
  },
  {
   "cell_type": "code",
   "execution_count": 15,
   "id": "posted-desktop",
   "metadata": {
    "scrolled": true
   },
   "outputs": [
    {
     "data": {
      "application/vnd.jupyter.widget-view+json": {
       "model_id": "c9a6a7ad5265443e9d092abafb8c0553",
       "version_major": 2,
       "version_minor": 0
      },
      "text/plain": [
       "  0%|          | 0/9000 [00:00<?, ?it/s]"
      ]
     },
     "metadata": {},
     "output_type": "display_data"
    },
    {
     "data": {
      "text/html": [
       "<div>\n",
       "<style scoped>\n",
       "    .dataframe tbody tr th:only-of-type {\n",
       "        vertical-align: middle;\n",
       "    }\n",
       "\n",
       "    .dataframe tbody tr th {\n",
       "        vertical-align: top;\n",
       "    }\n",
       "\n",
       "    .dataframe thead th {\n",
       "        text-align: right;\n",
       "    }\n",
       "</style>\n",
       "<table border=\"1\" class=\"dataframe\">\n",
       "  <thead>\n",
       "    <tr style=\"text-align: right;\">\n",
       "      <th></th>\n",
       "      <th>Uniq Id</th>\n",
       "      <th>Per Person Price</th>\n",
       "    </tr>\n",
       "  </thead>\n",
       "  <tbody>\n",
       "    <tr>\n",
       "      <th>0</th>\n",
       "      <td>12c47aefbcca65d6156ba0bc7946704b</td>\n",
       "      <td>19465.556641</td>\n",
       "    </tr>\n",
       "    <tr>\n",
       "      <th>1</th>\n",
       "      <td>156febf7d27315ae9f210ed13bca3ac2</td>\n",
       "      <td>9623.088867</td>\n",
       "    </tr>\n",
       "    <tr>\n",
       "      <th>2</th>\n",
       "      <td>a7f43314e3ee6464a4e35b874bddf2ea</td>\n",
       "      <td>5111.198730</td>\n",
       "    </tr>\n",
       "    <tr>\n",
       "      <th>3</th>\n",
       "      <td>d9cc4b407f3d5d290560c03d9ac71035</td>\n",
       "      <td>7608.590820</td>\n",
       "    </tr>\n",
       "    <tr>\n",
       "      <th>4</th>\n",
       "      <td>b3bbc8aa6429feb260e9ac0a91f252c4</td>\n",
       "      <td>21427.125000</td>\n",
       "    </tr>\n",
       "  </tbody>\n",
       "</table>\n",
       "</div>"
      ],
      "text/plain": [
       "                            Uniq Id  Per Person Price\n",
       "0  12c47aefbcca65d6156ba0bc7946704b  19465.556641    \n",
       "1  156febf7d27315ae9f210ed13bca3ac2  9623.088867     \n",
       "2  a7f43314e3ee6464a4e35b874bddf2ea  5111.198730     \n",
       "3  d9cc4b407f3d5d290560c03d9ac71035  7608.590820     \n",
       "4  b3bbc8aa6429feb260e9ac0a91f252c4  21427.125000    "
      ]
     },
     "execution_count": 15,
     "metadata": {},
     "output_type": "execute_result"
    }
   ],
   "source": [
    "result[target_col] = result['Uniq Id'].progress_apply(lambda x: model.predict(tdf[tdf['Uniq Id'] == x][cat_cols + reg_cols].values)[0])\n",
    "result.head()\n"
   ]
  },
  {
   "cell_type": "code",
   "execution_count": 16,
   "id": "universal-honolulu",
   "metadata": {},
   "outputs": [],
   "source": [
    "result.drop(columns=[\"Uniq Id\"]).to_csv(\"submission.csv\", index=False)"
   ]
  },
  {
   "cell_type": "code",
   "execution_count": 17,
   "id": "sapphire-reset",
   "metadata": {},
   "outputs": [
    {
     "data": {
      "text/html": [
       "<a href='submission.csv' target='_blank'>submission.csv</a><br>"
      ],
      "text/plain": [
       "/home/ashutosh/code/machine_hack/price_prediction/submissions/submission.csv"
      ]
     },
     "execution_count": 17,
     "metadata": {},
     "output_type": "execute_result"
    }
   ],
   "source": [
    "from IPython.display import FileLink\n",
    "\n",
    "FileLink('submission.csv')"
   ]
  },
  {
   "cell_type": "code",
   "execution_count": 18,
   "id": "theoretical-bathroom",
   "metadata": {},
   "outputs": [
    {
     "data": {
      "text/plain": [
       "count    16800.000000 \n",
       "mean     20059.856905 \n",
       "std      11608.712685 \n",
       "min      791.000000   \n",
       "25%      12482.500000 \n",
       "50%      17762.250000 \n",
       "75%      25127.375000 \n",
       "max      171062.500000\n",
       "Name: Per Person Price, dtype: float64"
      ]
     },
     "execution_count": 18,
     "metadata": {},
     "output_type": "execute_result"
    }
   ],
   "source": [
    "df[~df[target_col].isna()][target_col].describe()"
   ]
  },
  {
   "cell_type": "code",
   "execution_count": 19,
   "id": "potential-footage",
   "metadata": {},
   "outputs": [
    {
     "data": {
      "text/plain": [
       "count    9000.000000  \n",
       "mean     19924.559546 \n",
       "std      9735.943615  \n",
       "min      1925.876709  \n",
       "25%      13415.219971 \n",
       "50%      18219.306641 \n",
       "75%      24685.579590 \n",
       "max      121056.515625\n",
       "Name: Per Person Price, dtype: float64"
      ]
     },
     "execution_count": 19,
     "metadata": {},
     "output_type": "execute_result"
    }
   ],
   "source": [
    "result[target_col].describe()"
   ]
  },
  {
   "cell_type": "code",
   "execution_count": null,
   "id": "adverse-driver",
   "metadata": {},
   "outputs": [],
   "source": []
  },
  {
   "cell_type": "code",
   "execution_count": null,
   "id": "civilian-lightning",
   "metadata": {},
   "outputs": [],
   "source": []
  }
 ],
 "metadata": {
  "kernelspec": {
   "display_name": "Python 3",
   "language": "python",
   "name": "python3"
  },
  "language_info": {
   "codemirror_mode": {
    "name": "ipython",
    "version": 3
   },
   "file_extension": ".py",
   "mimetype": "text/x-python",
   "name": "python",
   "nbconvert_exporter": "python",
   "pygments_lexer": "ipython3",
   "version": "3.7.7"
  }
 },
 "nbformat": 4,
 "nbformat_minor": 5
}
