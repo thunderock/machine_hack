{
 "cells": [
  {
   "cell_type": "code",
   "execution_count": null,
   "id": "unexpected-measure",
   "metadata": {},
   "outputs": [],
   "source": [
    "\n",
    "import numpy as np\n",
    "import pandas as pd\n",
    "import os\n",
    "%matplotlib inline\n",
    "import matplotlib.pyplot as plt \n",
    "import seaborn as sns\n",
    "color = sns.color_palette()\n",
    "sns.set_style('darkgrid')\n",
    "from sklearn.metrics import mean_squared_error\n",
    "from sklearn.linear_model import LinearRegression\n",
    "from tqdm.notebook import tqdm\n",
    "from catboost import CatBoostRegressor\n",
    "from sklearn.ensemble import RandomForestRegressor\n",
    "from sklearn.preprocessing import StandardScaler, LabelEncoder, MinMaxScaler\n",
    "from sklearn.model_selection import train_test_split, KFold, StratifiedKFold, cross_val_score, RepeatedStratifiedKFold\n",
    "from sklearn import metrics\n",
    "import xgboost as xgb\n",
    "from sklearn.model_selection import GridSearchCV\n",
    "from sklearn.metrics import mean_squared_log_error\n",
    "from sklearn.model_selection import train_test_split\n",
    "from sklearn.metrics import make_scorer\n",
    "pd.set_option('display.max_colwidth', -1)\n",
    "tqdm.pandas()\n",
    "\n",
    "SEED=32\n",
    "submission_file = \"../Test.csv\"\n",
    "file = \"../features.csv\"\n"
   ]
  },
  {
   "cell_type": "code",
   "execution_count": null,
   "id": "previous-premium",
   "metadata": {},
   "outputs": [],
   "source": [
    "df = pd.read_csv(file)\n",
    "# df.set_index(\"Uniq Id\", drop=True, inplace=True)\n",
    "df.head()"
   ]
  },
  {
   "cell_type": "code",
   "execution_count": null,
   "id": "structural-stack",
   "metadata": {},
   "outputs": [],
   "source": [
    "cat_cols = ['Package Type', 'Start City', 'Cancellation Rules',\n",
    "           'airline_0', 'airline_1', 'airline_2', 'airline_3',\n",
    "       'airline_4', \n",
    "    \n",
    "           'PT_AC', 'PT_DC', 'PT_SC']#, 'MN_WD' , 'MN_YR', 'YR_WD']#'PT_NC', 'PT_IC', 'PT_FS', 'PT_CR',\n",
    "    \n",
    "#            'SC_AC', 'SC_DC', 'SC_NC', 'SC_IC', 'SC_FS', 'SC_CR',\n",
    "#            'CR_AC', 'CR_DC', 'CR_SC', 'CR_NC', 'CR_IC', 'CR_FS']\n",
    "reg_cols = ['Flight Stops', 'Meals', 'destination_count',\n",
    "       'airlines_count', 'sightseeing_count', 'hotel_details_count',\n",
    "       'place_covered_count', 'itinerary_count', 'package_name_length',\n",
    "#            'package_name_0', 'package_name_1', 'package_name_2', 'package_name_3',\n",
    "#        'package_name_4', 'package_name_5', 'package_name_6', 'package_name_7',\n",
    "#        'package_name_8', 'package_name_9', \n",
    "            'destination_0', 'destination_1',\n",
    "       'destination_2', 'destination_3', 'places_covered_0',\n",
    "       'places_covered_1', 'places_covered_2', 'places_covered_3',\n",
    "       'sight_seeing_places_covered_0', 'sight_seeing_places_covered_1',\n",
    "       'sight_seeing_places_covered_3', 'sight_seeing_places_covered_4',\n",
    "       'itinerary_0', 'itinerary_1', 'itinerary_2', 'itinerary_3',\n",
    "#        'hotel_details_0', 'hotel_details_1', 'hotel_details_2',\n",
    "#        'hotel_details_3', 'hotel_details_4', 'hotel_details_5',\n",
    "#        'hotel_details_6', 'hotel_details_7',\n",
    "        'Itinerary_night_count', \n",
    "            'start_city_mean',\n",
    "        'start_city_sum', 'package_type_mean', 'package_type_sum',\n",
    "           'month_type_mean', 'monthtype_sum', \n",
    "#             'day_of_week_type_mean',\n",
    "#            'day_of_week_type_sum', \n",
    "            'year_type_sum', 'year_type_mean']\n",
    "#         'package_type_price_100','package_type_price_1000', \n",
    "#         'start_city_price_100', 'start_city_price_1000']\n",
    "\n",
    "target_col = 'Per Person Price'\n",
    "\n",
    "len(cat_cols) + len(reg_cols) + 1"
   ]
  },
  {
   "cell_type": "code",
   "execution_count": null,
   "id": "aggregate-notice",
   "metadata": {},
   "outputs": [],
   "source": [
    "df[reg_cols] = MinMaxScaler().fit_transform(df[reg_cols])\n",
    "# df[reg_cols]"
   ]
  },
  {
   "cell_type": "code",
   "execution_count": null,
   "id": "optimum-bolivia",
   "metadata": {},
   "outputs": [],
   "source": [
    "tdf = df[df[target_col].isna()].copy()\n",
    "df = df[~df[target_col].isna()].copy()\n",
    "df, vdf = train_test_split(df, test_size=.2, random_state=SEED)\n"
   ]
  },
  {
   "cell_type": "code",
   "execution_count": null,
   "id": "coordinate-circular",
   "metadata": {},
   "outputs": [],
   "source": [
    "\n",
    "\n",
    "class CatBoost(object):\n",
    "    def __init__(self):\n",
    "        self.model = CatBoostRegressor(random_state =SEED, task_type=\"GPU\", devices='0:1', \n",
    "                           eval_metric='MSLE', thread_count=8, \n",
    "                           cat_features=cat_cols,\n",
    "                           od_type='Iter', od_wait=10)\n",
    "    \n",
    "    def fit(self, dframe):\n",
    "        grid = {\n",
    "            'max_depth': [6, 8, 10, 12], \n",
    "            'iterations': [100, 200],\n",
    "            'learning_rate': [.1, .2, .3]\n",
    "        }\n",
    "        grid_search_result= self.model.grid_search(\n",
    "                                grid, \n",
    "                               X=dframe[cat_cols + reg_cols], \n",
    "                               y=dframe[target_col], \n",
    "                               shuffle=True, stratified=False, \n",
    "                               verbose=False, plot=False,  refit=True\n",
    "                              )\n",
    "        print(grid_search_result['params'])\n",
    "        return self.model\n",
    "    \n",
    "\n"
   ]
  },
  {
   "cell_type": "code",
   "execution_count": null,
   "id": "ceramic-occasions",
   "metadata": {},
   "outputs": [],
   "source": [
    "\n",
    "def rmsle(true, preds):\n",
    "    return np.sqrt(mean_squared_log_error(true, preds))\n",
    "\n",
    "scorer = make_scorer(rmsle, greater_is_better=False)\n",
    "fold = KFold(n_splits=3, shuffle=True, random_state=SEED)\n",
    "\n",
    "def evaluate_model(m, value=None):\n",
    "    if not value:\n",
    "        preds = m.predict(vdf[cat_cols + reg_cols])\n",
    "    else:\n",
    "        preds = m.predict(vdf[cat_cols + reg_cols].values)\n",
    "    true = vdf[target_col]\n",
    "    return rmsle(true, preds)\n"
   ]
  },
  {
   "cell_type": "code",
   "execution_count": null,
   "id": "forced-minutes",
   "metadata": {},
   "outputs": [],
   "source": [
    "class RandomForest(object):\n",
    "    def __init__(self):\n",
    "        self.model = RandomForestRegressor(random_state=SEED)\n",
    "    \n",
    "    def fit(self, dframe):\n",
    "        parameters = {\n",
    "            'oob_score': [False],\n",
    "            'n_estimators': [800, 900 ,1000]\n",
    "        }\n",
    "        clf = GridSearchCV(self.model, parameters, cv=3, refit=True, n_jobs=-1, verbose=3, scoring=scorer)\n",
    "        clf.fit(dframe[cat_cols + reg_cols].values, dframe[target_col].values)\n",
    "        print(self.__class__, clf.best_params_)\n",
    "        return clf\n",
    "\n",
    "class XGBoost(object):\n",
    "    def __init__(self):\n",
    "        self.model = xgb.XGBRegressor()\n",
    "        \n",
    "    def fit(self, dframe, parameters=None):\n",
    "        parameters = parameters if parameters else {\n",
    "            'max_depth':[12, 10, 8, 6, 14],\n",
    "            'min_child_weight': [4 ,3 , 5],\n",
    "            'learning_rate': [.01],\n",
    "            'n_estimators': [500, 1000, 1500, 2000],\n",
    "            'gamma': [0.],\n",
    "            'subsample': [.8],\n",
    "            'colsample_bytree':[0.8]\n",
    "        } \n",
    "        clf = GridSearchCV(self.model, parameters, cv=fold, \n",
    "                           refit=True, n_jobs=-1, verbose=10, \n",
    "                           scoring=scorer)\n",
    "        clf.fit(dframe[cat_cols + reg_cols].values, dframe[target_col].values)\n",
    "        print(self.__class__, clf.best_params_)\n",
    "#         print(clf.cv_results_)\n",
    "        return clf, clf.best_params_"
   ]
  },
  {
   "cell_type": "code",
   "execution_count": null,
   "id": "certified-parameter",
   "metadata": {},
   "outputs": [],
   "source": [
    "# model = CatBoost().fit(df)\n",
    "# print(model.__class__, evaluate_model(model, value=False))\n",
    "\n",
    "model, grid = XGBoost().fit(df)\n",
    "print(evaluate_model(model, value=True))\n",
    "\n",
    "\n",
    "# model = RandomForest().fit(df)\n",
    "# print(model.__class__, evaluate_model(model, value=True))"
   ]
  },
  {
   "cell_type": "code",
   "execution_count": null,
   "id": "seasonal-edmonton",
   "metadata": {},
   "outputs": [],
   "source": [
    "grid"
   ]
  },
  {
   "cell_type": "code",
   "execution_count": null,
   "id": "improving-investing",
   "metadata": {},
   "outputs": [],
   "source": [
    "results_df = pd.DataFrame(model.cv_results_)\n",
    "results_df = results_df.sort_values(by=['rank_test_score'])\n",
    "results_df = (\n",
    "    results_df\n",
    "    .set_index(results_df[\"params\"].apply(\n",
    "        lambda x: \"_\".join(str(val) for val in x.values()))\n",
    "    )\n",
    "    .rename_axis('kernel')\n",
    ")\n",
    "results_df[\n",
    "    ['params', 'rank_test_score', 'mean_test_score', 'std_test_score']\n",
    "]"
   ]
  },
  {
   "cell_type": "code",
   "execution_count": null,
   "id": "administrative-officer",
   "metadata": {},
   "outputs": [],
   "source": [
    "result = pd.read_csv(submission_file)[['Uniq Id']]\n",
    "result"
   ]
  },
  {
   "cell_type": "code",
   "execution_count": null,
   "id": "mighty-nickname",
   "metadata": {},
   "outputs": [],
   "source": [
    "model, grid = XGBoost().fit(pd.concat([df, vdf]), {i: [grid[i]] for i in grid})\n",
    "#                       {'learning_rate': [0.01], 'max_depth': [9], 'min_child_weight': [6], 'n_estimators': [1600]})\n",
    "# print(evaluate_model(model, value=True))"
   ]
  },
  {
   "cell_type": "code",
   "execution_count": null,
   "id": "brown-server",
   "metadata": {
    "scrolled": true
   },
   "outputs": [],
   "source": [
    "result[target_col] = result['Uniq Id'].progress_apply(lambda x: model.predict(tdf[tdf['Uniq Id'] == x][cat_cols + reg_cols].values)[0])\n",
    "result.head()\n"
   ]
  },
  {
   "cell_type": "code",
   "execution_count": null,
   "id": "pleasant-venture",
   "metadata": {},
   "outputs": [],
   "source": [
    "result.drop(columns=[\"Uniq Id\"]).to_csv(\"submission.csv\", index=False)"
   ]
  },
  {
   "cell_type": "code",
   "execution_count": null,
   "id": "fatal-ghana",
   "metadata": {},
   "outputs": [],
   "source": [
    "from IPython.display import FileLink\n",
    "\n",
    "FileLink('submission.csv')"
   ]
  },
  {
   "cell_type": "code",
   "execution_count": null,
   "id": "failing-restriction",
   "metadata": {},
   "outputs": [],
   "source": [
    "df[~df[target_col].isna()][target_col].describe()"
   ]
  },
  {
   "cell_type": "code",
   "execution_count": null,
   "id": "adjacent-basket",
   "metadata": {},
   "outputs": [],
   "source": [
    "result[target_col].describe()"
   ]
  },
  {
   "cell_type": "code",
   "execution_count": null,
   "id": "attempted-apparatus",
   "metadata": {},
   "outputs": [],
   "source": [
    "importance = model.best_estimator_.feature_importances_\n",
    "features = df[cat_cols + reg_cols].columns.values\n",
    "\n",
    "for i,v in enumerate(importance):\n",
    "    print('Feature: %s, Score: %.5f' % (features[i],v))\n",
    "\n",
    "plt.figure(figsize=(15,8))\n",
    "plt.xticks(rotation=90)\n",
    "sns.barplot(x=[features[x] for x in range(len(importance))], y=importance)"
   ]
  },
  {
   "cell_type": "code",
   "execution_count": null,
   "id": "incomplete-inclusion",
   "metadata": {},
   "outputs": [],
   "source": []
  },
  {
   "cell_type": "code",
   "execution_count": null,
   "id": "secure-chuck",
   "metadata": {},
   "outputs": [],
   "source": []
  }
 ],
 "metadata": {
  "kernelspec": {
   "display_name": "Python 3",
   "language": "python",
   "name": "python3"
  },
  "language_info": {
   "codemirror_mode": {
    "name": "ipython",
    "version": 3
   },
   "file_extension": ".py",
   "mimetype": "text/x-python",
   "name": "python",
   "nbconvert_exporter": "python",
   "pygments_lexer": "ipython3",
   "version": "3.7.7"
  }
 },
 "nbformat": 4,
 "nbformat_minor": 5
}
