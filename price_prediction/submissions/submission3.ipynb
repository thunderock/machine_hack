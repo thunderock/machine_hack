{
 "cells": [
  {
   "cell_type": "code",
   "execution_count": 1,
   "id": "unexpected-measure",
   "metadata": {},
   "outputs": [
    {
     "name": "stderr",
     "output_type": "stream",
     "text": [
      "/home/ashutosh/miniconda3/lib/python3.7/site-packages/ipykernel_launcher.py:22: FutureWarning: Passing a negative integer is deprecated in version 1.0 and will not be supported in future version. Instead, use None to not limit the column width.\n"
     ]
    }
   ],
   "source": [
    "\n",
    "import numpy as np\n",
    "import pandas as pd\n",
    "import os\n",
    "%matplotlib inline\n",
    "import matplotlib.pyplot as plt \n",
    "import seaborn as sns\n",
    "color = sns.color_palette()\n",
    "sns.set_style('darkgrid')\n",
    "from sklearn.metrics import mean_squared_error\n",
    "from sklearn.linear_model import LinearRegression\n",
    "from tqdm.notebook import tqdm\n",
    "from catboost import CatBoostRegressor\n",
    "from sklearn.ensemble import RandomForestRegressor\n",
    "from sklearn.preprocessing import StandardScaler, LabelEncoder, MinMaxScaler\n",
    "from sklearn.model_selection import train_test_split, KFold, StratifiedKFold, cross_val_score, RepeatedStratifiedKFold\n",
    "from sklearn import metrics\n",
    "import xgboost as xgb\n",
    "from sklearn.model_selection import GridSearchCV\n",
    "from sklearn.metrics import mean_squared_log_error\n",
    "from sklearn.model_selection import train_test_split\n",
    "from sklearn.metrics import make_scorer\n",
    "pd.set_option('display.max_colwidth', -1)\n",
    "tqdm.pandas()\n",
    "\n",
    "SEED=32\n",
    "submission_file = \"../Test.csv\"\n",
    "file = \"../features.csv\"\n"
   ]
  },
  {
   "cell_type": "code",
   "execution_count": 2,
   "id": "previous-premium",
   "metadata": {},
   "outputs": [
    {
     "data": {
      "text/html": [
       "<div>\n",
       "<style scoped>\n",
       "    .dataframe tbody tr th:only-of-type {\n",
       "        vertical-align: middle;\n",
       "    }\n",
       "\n",
       "    .dataframe tbody tr th {\n",
       "        vertical-align: top;\n",
       "    }\n",
       "\n",
       "    .dataframe thead th {\n",
       "        text-align: right;\n",
       "    }\n",
       "</style>\n",
       "<table border=\"1\" class=\"dataframe\">\n",
       "  <thead>\n",
       "    <tr style=\"text-align: right;\">\n",
       "      <th></th>\n",
       "      <th>Uniq Id</th>\n",
       "      <th>Package Type</th>\n",
       "      <th>Start City</th>\n",
       "      <th>Flight Stops</th>\n",
       "      <th>Meals</th>\n",
       "      <th>Cancellation Rules</th>\n",
       "      <th>Per Person Price</th>\n",
       "      <th>destination_count</th>\n",
       "      <th>airlines_count</th>\n",
       "      <th>sightseeing_count</th>\n",
       "      <th>...</th>\n",
       "      <th>CR_AC</th>\n",
       "      <th>CR_DC</th>\n",
       "      <th>CR_SC</th>\n",
       "      <th>CR_NC</th>\n",
       "      <th>CR_IC</th>\n",
       "      <th>CR_FS</th>\n",
       "      <th>start_city_mean</th>\n",
       "      <th>start_city_sum</th>\n",
       "      <th>package_type_mean</th>\n",
       "      <th>package_type_sum</th>\n",
       "    </tr>\n",
       "  </thead>\n",
       "  <tbody>\n",
       "    <tr>\n",
       "      <th>0</th>\n",
       "      <td>349e0d65d7c0cd0ff250060d9df3d085</td>\n",
       "      <td>3</td>\n",
       "      <td>0</td>\n",
       "      <td>0</td>\n",
       "      <td>5</td>\n",
       "      <td>0</td>\n",
       "      <td>38311.0</td>\n",
       "      <td>4</td>\n",
       "      <td>2</td>\n",
       "      <td>23</td>\n",
       "      <td>...</td>\n",
       "      <td>1</td>\n",
       "      <td>3</td>\n",
       "      <td>0</td>\n",
       "      <td>6</td>\n",
       "      <td>3</td>\n",
       "      <td>0</td>\n",
       "      <td>20811.841682</td>\n",
       "      <td>151239653.5</td>\n",
       "      <td>23965.407006</td>\n",
       "      <td>133750936.5</td>\n",
       "    </tr>\n",
       "    <tr>\n",
       "      <th>1</th>\n",
       "      <td>179863780585016c62d8a7c274793076</td>\n",
       "      <td>4</td>\n",
       "      <td>1</td>\n",
       "      <td>2</td>\n",
       "      <td>3</td>\n",
       "      <td>5</td>\n",
       "      <td>9823.5</td>\n",
       "      <td>2</td>\n",
       "      <td>1</td>\n",
       "      <td>10</td>\n",
       "      <td>...</td>\n",
       "      <td>19</td>\n",
       "      <td>21</td>\n",
       "      <td>10</td>\n",
       "      <td>29</td>\n",
       "      <td>21</td>\n",
       "      <td>14</td>\n",
       "      <td>19661.128996</td>\n",
       "      <td>270006284.5</td>\n",
       "      <td>16354.089081</td>\n",
       "      <td>92711331.0</td>\n",
       "    </tr>\n",
       "    <tr>\n",
       "      <th>2</th>\n",
       "      <td>a0b099bcbc4e86c5505dc69464676d42</td>\n",
       "      <td>1</td>\n",
       "      <td>1</td>\n",
       "      <td>1</td>\n",
       "      <td>3</td>\n",
       "      <td>9</td>\n",
       "      <td>2868.0</td>\n",
       "      <td>1</td>\n",
       "      <td>1</td>\n",
       "      <td>1</td>\n",
       "      <td>...</td>\n",
       "      <td>28</td>\n",
       "      <td>32</td>\n",
       "      <td>16</td>\n",
       "      <td>40</td>\n",
       "      <td>32</td>\n",
       "      <td>20</td>\n",
       "      <td>19661.128996</td>\n",
       "      <td>270006284.5</td>\n",
       "      <td>18409.508825</td>\n",
       "      <td>110567510.0</td>\n",
       "    </tr>\n",
       "    <tr>\n",
       "      <th>3</th>\n",
       "      <td>3343f7bdcd11e2571c07ada0ca9ef968</td>\n",
       "      <td>3</td>\n",
       "      <td>1</td>\n",
       "      <td>0</td>\n",
       "      <td>5</td>\n",
       "      <td>9</td>\n",
       "      <td>21918.5</td>\n",
       "      <td>1</td>\n",
       "      <td>1</td>\n",
       "      <td>6</td>\n",
       "      <td>...</td>\n",
       "      <td>28</td>\n",
       "      <td>32</td>\n",
       "      <td>16</td>\n",
       "      <td>42</td>\n",
       "      <td>32</td>\n",
       "      <td>19</td>\n",
       "      <td>19661.128996</td>\n",
       "      <td>270006284.5</td>\n",
       "      <td>23965.407006</td>\n",
       "      <td>133750936.5</td>\n",
       "    </tr>\n",
       "    <tr>\n",
       "      <th>4</th>\n",
       "      <td>f7d70956ff8c3b8f39d213958f89bf2d</td>\n",
       "      <td>3</td>\n",
       "      <td>0</td>\n",
       "      <td>0</td>\n",
       "      <td>5</td>\n",
       "      <td>0</td>\n",
       "      <td>13827.5</td>\n",
       "      <td>1</td>\n",
       "      <td>1</td>\n",
       "      <td>5</td>\n",
       "      <td>...</td>\n",
       "      <td>0</td>\n",
       "      <td>0</td>\n",
       "      <td>0</td>\n",
       "      <td>2</td>\n",
       "      <td>0</td>\n",
       "      <td>0</td>\n",
       "      <td>20811.841682</td>\n",
       "      <td>151239653.5</td>\n",
       "      <td>23965.407006</td>\n",
       "      <td>133750936.5</td>\n",
       "    </tr>\n",
       "  </tbody>\n",
       "</table>\n",
       "<p>5 rows × 81 columns</p>\n",
       "</div>"
      ],
      "text/plain": [
       "                            Uniq Id  Package Type  Start City  Flight Stops  \\\n",
       "0  349e0d65d7c0cd0ff250060d9df3d085  3             0           0              \n",
       "1  179863780585016c62d8a7c274793076  4             1           2              \n",
       "2  a0b099bcbc4e86c5505dc69464676d42  1             1           1              \n",
       "3  3343f7bdcd11e2571c07ada0ca9ef968  3             1           0              \n",
       "4  f7d70956ff8c3b8f39d213958f89bf2d  3             0           0              \n",
       "\n",
       "   Meals  Cancellation Rules  Per Person Price  destination_count  \\\n",
       "0  5      0                   38311.0           4                   \n",
       "1  3      5                   9823.5            2                   \n",
       "2  3      9                   2868.0            1                   \n",
       "3  5      9                   21918.5           1                   \n",
       "4  5      0                   13827.5           1                   \n",
       "\n",
       "   airlines_count  sightseeing_count  ...  CR_AC  CR_DC  CR_SC  CR_NC  CR_IC  \\\n",
       "0  2               23                 ...  1      3      0      6      3       \n",
       "1  1               10                 ...  19     21     10     29     21      \n",
       "2  1               1                  ...  28     32     16     40     32      \n",
       "3  1               6                  ...  28     32     16     42     32      \n",
       "4  1               5                  ...  0      0      0      2      0       \n",
       "\n",
       "   CR_FS  start_city_mean  start_city_sum  package_type_mean  package_type_sum  \n",
       "0  0      20811.841682     151239653.5     23965.407006       133750936.5       \n",
       "1  14     19661.128996     270006284.5     16354.089081       92711331.0        \n",
       "2  20     19661.128996     270006284.5     18409.508825       110567510.0       \n",
       "3  19     19661.128996     270006284.5     23965.407006       133750936.5       \n",
       "4  0      20811.841682     151239653.5     23965.407006       133750936.5       \n",
       "\n",
       "[5 rows x 81 columns]"
      ]
     },
     "execution_count": 2,
     "metadata": {},
     "output_type": "execute_result"
    }
   ],
   "source": [
    "df = pd.read_csv(file)\n",
    "# df.set_index(\"Uniq Id\", drop=True, inplace=True)\n",
    "df.head()"
   ]
  },
  {
   "cell_type": "code",
   "execution_count": 3,
   "id": "structural-stack",
   "metadata": {},
   "outputs": [
    {
     "data": {
      "text/plain": [
       "60"
      ]
     },
     "execution_count": 3,
     "metadata": {},
     "output_type": "execute_result"
    }
   ],
   "source": [
    "cat_cols = ['Package Type', 'Start City', 'Cancellation Rules',\n",
    "           'airline_0', 'airline_1', 'airline_2', 'airline_3',\n",
    "       'airline_4', \n",
    "    \n",
    "           'PT_AC', 'PT_DC', 'PT_SC', ]#'PT_NC', 'PT_IC', 'PT_FS', 'PT_CR',\n",
    "    \n",
    "#            'SC_AC', 'SC_DC', 'SC_NC', 'SC_IC', 'SC_FS', 'SC_CR',\n",
    "#            'CR_AC', 'CR_DC', 'CR_SC', 'CR_NC', 'CR_IC', 'CR_FS']\n",
    "reg_cols = ['Flight Stops', 'Meals', 'destination_count',\n",
    "       'airlines_count', 'sightseeing_count', 'hotel_details_count',\n",
    "       'place_covered_count', 'itinerary_count', 'package_name_length',\n",
    "           'package_name_0', 'package_name_1', 'package_name_2', 'package_name_3',\n",
    "       'package_name_4', 'package_name_5', 'package_name_6', 'package_name_7',\n",
    "       'package_name_8', 'package_name_9', 'destination_0', 'destination_1',\n",
    "       'destination_2', 'destination_3', 'places_covered_0',\n",
    "       'places_covered_1', 'places_covered_2', 'places_covered_3',\n",
    "       'sight_seeing_places_covered_0', 'sight_seeing_places_covered_1',\n",
    "       'sight_seeing_places_covered_3', 'sight_seeing_places_covered_4',\n",
    "       'itinerary_0', 'itinerary_1', 'itinerary_2', 'itinerary_3',\n",
    "       'hotel_details_0', 'hotel_details_1', 'hotel_details_2',\n",
    "       'hotel_details_3', 'hotel_details_4', 'hotel_details_5',\n",
    "       'hotel_details_6', 'hotel_details_7',\n",
    "        'Itinerary_night_count', 'start_city_mean',\n",
    "        'start_city_sum', 'package_type_mean', 'package_type_sum']\n",
    "#         'package_type_price_100','package_type_price_1000', \n",
    "#         'start_city_price_100', 'start_city_price_1000']\n",
    "\n",
    "target_col = 'Per Person Price'\n",
    "\n",
    "len(cat_cols) + len(reg_cols) + 1"
   ]
  },
  {
   "cell_type": "code",
   "execution_count": 4,
   "id": "aggregate-notice",
   "metadata": {},
   "outputs": [],
   "source": [
    "df[reg_cols] = MinMaxScaler().fit_transform(df[reg_cols])\n",
    "# df[reg_cols]"
   ]
  },
  {
   "cell_type": "code",
   "execution_count": 5,
   "id": "optimum-bolivia",
   "metadata": {},
   "outputs": [],
   "source": [
    "tdf = df[df[target_col].isna()].copy()\n",
    "df = df[~df[target_col].isna()].copy()\n",
    "df, vdf = train_test_split(df, test_size=.2, random_state=SEED)\n"
   ]
  },
  {
   "cell_type": "code",
   "execution_count": 6,
   "id": "coordinate-circular",
   "metadata": {},
   "outputs": [],
   "source": [
    "\n",
    "\n",
    "class CatBoost(object):\n",
    "    def __init__(self):\n",
    "        self.model = CatBoostRegressor(random_state =SEED, task_type=\"GPU\", devices='0:1', \n",
    "                           eval_metric='MSLE', thread_count=8, \n",
    "                           cat_features=cat_cols,\n",
    "                           od_type='Iter', od_wait=10)\n",
    "    \n",
    "    def fit(self, dframe):\n",
    "        grid = {\n",
    "            'max_depth': [6, 8, 10, 12], \n",
    "            'iterations': [100, 200],\n",
    "            'learning_rate': [.1, .2, .3]\n",
    "        }\n",
    "        grid_search_result= self.model.grid_search(\n",
    "                                grid, \n",
    "                               X=dframe[cat_cols + reg_cols], \n",
    "                               y=dframe[target_col], \n",
    "                               shuffle=True, stratified=False, \n",
    "                               verbose=False, plot=False,  refit=True\n",
    "                              )\n",
    "        print(grid_search_result['params'])\n",
    "        return self.model\n",
    "    \n",
    "\n"
   ]
  },
  {
   "cell_type": "code",
   "execution_count": 7,
   "id": "ceramic-occasions",
   "metadata": {},
   "outputs": [],
   "source": [
    "\n",
    "def rmsle(true, preds):\n",
    "    return np.sqrt(mean_squared_log_error(true, preds))\n",
    "\n",
    "scorer = make_scorer(rmsle, greater_is_better=False)\n",
    "fold = KFold(n_splits=3, shuffle=True, random_state=SEED)\n",
    "\n",
    "def evaluate_model(m, value=None):\n",
    "    if not value:\n",
    "        preds = m.predict(vdf[cat_cols + reg_cols])\n",
    "    else:\n",
    "        preds = m.predict(vdf[cat_cols + reg_cols].values)\n",
    "    true = vdf[target_col]\n",
    "    return rmsle(true, preds)\n"
   ]
  },
  {
   "cell_type": "code",
   "execution_count": 8,
   "id": "forced-minutes",
   "metadata": {},
   "outputs": [],
   "source": [
    "class RandomForest(object):\n",
    "    def __init__(self):\n",
    "        self.model = RandomForestRegressor(random_state=SEED)\n",
    "    \n",
    "    def fit(self, dframe):\n",
    "        parameters = {\n",
    "            'oob_score': [False],\n",
    "            'n_estimators': [800, 900 ,1000]\n",
    "        }\n",
    "        clf = GridSearchCV(self.model, parameters, cv=3, refit=True, n_jobs=-1, verbose=3, scoring=scorer)\n",
    "        clf.fit(dframe[cat_cols + reg_cols].values, dframe[target_col].values)\n",
    "        print(self.__class__, clf.best_params_)\n",
    "        return clf\n",
    "\n",
    "class XGBoost(object):\n",
    "    def __init__(self):\n",
    "        self.model = xgb.XGBRegressor(colsample_bytree=0.8)\n",
    "        \n",
    "    def fit(self, dframe, parameters=None):\n",
    "        parameters = parameters if parameters else {\n",
    "            'max_depth':[12],\n",
    "            'min_child_weight': [4],\n",
    "            'learning_rate': [.01],\n",
    "            'n_estimators': [2000],\n",
    "            'gamma': [0.],\n",
    "            'subsample': [.8]\n",
    "        } \n",
    "        clf = GridSearchCV(self.model, parameters, cv=fold, \n",
    "                           refit=True, n_jobs=-1, verbose=10, \n",
    "                           scoring=scorer)\n",
    "        clf.fit(dframe[cat_cols + reg_cols].values, dframe[target_col].values)\n",
    "        print(self.__class__, clf.best_params_)\n",
    "#         print(clf.cv_results_)\n",
    "        return clf, clf.best_params_"
   ]
  },
  {
   "cell_type": "code",
   "execution_count": 9,
   "id": "certified-parameter",
   "metadata": {},
   "outputs": [
    {
     "name": "stdout",
     "output_type": "stream",
     "text": [
      "Fitting 3 folds for each of 1 candidates, totalling 3 fits\n"
     ]
    },
    {
     "name": "stderr",
     "output_type": "stream",
     "text": [
      "[Parallel(n_jobs=-1)]: Using backend LokyBackend with 8 concurrent workers.\n",
      "[Parallel(n_jobs=-1)]: Done   3 out of   3 | elapsed:  3.7min remaining:    0.0s\n",
      "[Parallel(n_jobs=-1)]: Done   3 out of   3 | elapsed:  3.7min finished\n"
     ]
    },
    {
     "name": "stdout",
     "output_type": "stream",
     "text": [
      "<class '__main__.XGBoost'> {'gamma': 0.0, 'learning_rate': 0.01, 'max_depth': 12, 'min_child_weight': 4, 'n_estimators': 2000, 'subsample': 0.8}\n",
      "0.20677821190709578\n"
     ]
    }
   ],
   "source": [
    "# model = CatBoost().fit(df)\n",
    "# print(model.__class__, evaluate_model(model, value=False))\n",
    "\n",
    "model, grid = XGBoost().fit(df)\n",
    "print(evaluate_model(model, value=True))\n",
    "\n",
    "\n",
    "# model = RandomForest().fit(df)\n",
    "# print(model.__class__, evaluate_model(model, value=True))"
   ]
  },
  {
   "cell_type": "code",
   "execution_count": 10,
   "id": "seasonal-edmonton",
   "metadata": {},
   "outputs": [
    {
     "data": {
      "text/plain": [
       "{'gamma': 0.0,\n",
       " 'learning_rate': 0.01,\n",
       " 'max_depth': 12,\n",
       " 'min_child_weight': 4,\n",
       " 'n_estimators': 2000,\n",
       " 'subsample': 0.8}"
      ]
     },
     "execution_count": 10,
     "metadata": {},
     "output_type": "execute_result"
    }
   ],
   "source": [
    "grid"
   ]
  },
  {
   "cell_type": "code",
   "execution_count": 11,
   "id": "improving-investing",
   "metadata": {},
   "outputs": [
    {
     "data": {
      "text/html": [
       "<div>\n",
       "<style scoped>\n",
       "    .dataframe tbody tr th:only-of-type {\n",
       "        vertical-align: middle;\n",
       "    }\n",
       "\n",
       "    .dataframe tbody tr th {\n",
       "        vertical-align: top;\n",
       "    }\n",
       "\n",
       "    .dataframe thead th {\n",
       "        text-align: right;\n",
       "    }\n",
       "</style>\n",
       "<table border=\"1\" class=\"dataframe\">\n",
       "  <thead>\n",
       "    <tr style=\"text-align: right;\">\n",
       "      <th></th>\n",
       "      <th>params</th>\n",
       "      <th>rank_test_score</th>\n",
       "      <th>mean_test_score</th>\n",
       "      <th>std_test_score</th>\n",
       "    </tr>\n",
       "    <tr>\n",
       "      <th>kernel</th>\n",
       "      <th></th>\n",
       "      <th></th>\n",
       "      <th></th>\n",
       "      <th></th>\n",
       "    </tr>\n",
       "  </thead>\n",
       "  <tbody>\n",
       "    <tr>\n",
       "      <th>0.0_0.01_12_4_2000_0.8</th>\n",
       "      <td>{'gamma': 0.0, 'learning_rate': 0.01, 'max_depth': 12, 'min_child_weight': 4, 'n_estimators': 2000, 'subsample': 0.8}</td>\n",
       "      <td>1</td>\n",
       "      <td>-0.218044</td>\n",
       "      <td>0.00205</td>\n",
       "    </tr>\n",
       "  </tbody>\n",
       "</table>\n",
       "</div>"
      ],
      "text/plain": [
       "                                                                                                                                       params  \\\n",
       "kernel                                                                                                                                          \n",
       "0.0_0.01_12_4_2000_0.8  {'gamma': 0.0, 'learning_rate': 0.01, 'max_depth': 12, 'min_child_weight': 4, 'n_estimators': 2000, 'subsample': 0.8}   \n",
       "\n",
       "                        rank_test_score  mean_test_score  std_test_score  \n",
       "kernel                                                                    \n",
       "0.0_0.01_12_4_2000_0.8  1               -0.218044         0.00205         "
      ]
     },
     "execution_count": 11,
     "metadata": {},
     "output_type": "execute_result"
    }
   ],
   "source": [
    "results_df = pd.DataFrame(model.cv_results_)\n",
    "results_df = results_df.sort_values(by=['rank_test_score'])\n",
    "results_df = (\n",
    "    results_df\n",
    "    .set_index(results_df[\"params\"].apply(\n",
    "        lambda x: \"_\".join(str(val) for val in x.values()))\n",
    "    )\n",
    "    .rename_axis('kernel')\n",
    ")\n",
    "results_df[\n",
    "    ['params', 'rank_test_score', 'mean_test_score', 'std_test_score']\n",
    "]"
   ]
  },
  {
   "cell_type": "code",
   "execution_count": 12,
   "id": "administrative-officer",
   "metadata": {},
   "outputs": [
    {
     "data": {
      "text/html": [
       "<div>\n",
       "<style scoped>\n",
       "    .dataframe tbody tr th:only-of-type {\n",
       "        vertical-align: middle;\n",
       "    }\n",
       "\n",
       "    .dataframe tbody tr th {\n",
       "        vertical-align: top;\n",
       "    }\n",
       "\n",
       "    .dataframe thead th {\n",
       "        text-align: right;\n",
       "    }\n",
       "</style>\n",
       "<table border=\"1\" class=\"dataframe\">\n",
       "  <thead>\n",
       "    <tr style=\"text-align: right;\">\n",
       "      <th></th>\n",
       "      <th>Uniq Id</th>\n",
       "    </tr>\n",
       "  </thead>\n",
       "  <tbody>\n",
       "    <tr>\n",
       "      <th>0</th>\n",
       "      <td>12c47aefbcca65d6156ba0bc7946704b</td>\n",
       "    </tr>\n",
       "    <tr>\n",
       "      <th>1</th>\n",
       "      <td>156febf7d27315ae9f210ed13bca3ac2</td>\n",
       "    </tr>\n",
       "    <tr>\n",
       "      <th>2</th>\n",
       "      <td>a7f43314e3ee6464a4e35b874bddf2ea</td>\n",
       "    </tr>\n",
       "    <tr>\n",
       "      <th>3</th>\n",
       "      <td>d9cc4b407f3d5d290560c03d9ac71035</td>\n",
       "    </tr>\n",
       "    <tr>\n",
       "      <th>4</th>\n",
       "      <td>b3bbc8aa6429feb260e9ac0a91f252c4</td>\n",
       "    </tr>\n",
       "    <tr>\n",
       "      <th>...</th>\n",
       "      <td>...</td>\n",
       "    </tr>\n",
       "    <tr>\n",
       "      <th>8995</th>\n",
       "      <td>75171484ea20440a5c08fe040a9a01a7</td>\n",
       "    </tr>\n",
       "    <tr>\n",
       "      <th>8996</th>\n",
       "      <td>16f57cebfb653f2c532314322598ca3a</td>\n",
       "    </tr>\n",
       "    <tr>\n",
       "      <th>8997</th>\n",
       "      <td>477f8b3f07e1a6c027152e2cd5d67e4a</td>\n",
       "    </tr>\n",
       "    <tr>\n",
       "      <th>8998</th>\n",
       "      <td>c9ce916ec5e1b93134a2f84090284bf9</td>\n",
       "    </tr>\n",
       "    <tr>\n",
       "      <th>8999</th>\n",
       "      <td>63f248718bd829ec8a3d234f85637734</td>\n",
       "    </tr>\n",
       "  </tbody>\n",
       "</table>\n",
       "<p>9000 rows × 1 columns</p>\n",
       "</div>"
      ],
      "text/plain": [
       "                               Uniq Id\n",
       "0     12c47aefbcca65d6156ba0bc7946704b\n",
       "1     156febf7d27315ae9f210ed13bca3ac2\n",
       "2     a7f43314e3ee6464a4e35b874bddf2ea\n",
       "3     d9cc4b407f3d5d290560c03d9ac71035\n",
       "4     b3bbc8aa6429feb260e9ac0a91f252c4\n",
       "...                                ...\n",
       "8995  75171484ea20440a5c08fe040a9a01a7\n",
       "8996  16f57cebfb653f2c532314322598ca3a\n",
       "8997  477f8b3f07e1a6c027152e2cd5d67e4a\n",
       "8998  c9ce916ec5e1b93134a2f84090284bf9\n",
       "8999  63f248718bd829ec8a3d234f85637734\n",
       "\n",
       "[9000 rows x 1 columns]"
      ]
     },
     "execution_count": 12,
     "metadata": {},
     "output_type": "execute_result"
    }
   ],
   "source": [
    "result = pd.read_csv(submission_file)[['Uniq Id']]\n",
    "result"
   ]
  },
  {
   "cell_type": "code",
   "execution_count": 13,
   "id": "mighty-nickname",
   "metadata": {},
   "outputs": [
    {
     "name": "stdout",
     "output_type": "stream",
     "text": [
      "Fitting 3 folds for each of 1 candidates, totalling 3 fits\n"
     ]
    },
    {
     "name": "stderr",
     "output_type": "stream",
     "text": [
      "[Parallel(n_jobs=-1)]: Using backend LokyBackend with 8 concurrent workers.\n",
      "[Parallel(n_jobs=-1)]: Done   3 out of   3 | elapsed:  4.6min remaining:    0.0s\n",
      "[Parallel(n_jobs=-1)]: Done   3 out of   3 | elapsed:  4.6min finished\n"
     ]
    },
    {
     "name": "stdout",
     "output_type": "stream",
     "text": [
      "<class '__main__.XGBoost'> {'gamma': 0.0, 'learning_rate': 0.01, 'max_depth': 12, 'min_child_weight': 4, 'n_estimators': 2000, 'subsample': 0.8}\n"
     ]
    }
   ],
   "source": [
    "model, grid = XGBoost().fit(pd.concat([df, vdf]), {i: [grid[i]] for i in grid})\n",
    "#                       {'learning_rate': [0.01], 'max_depth': [9], 'min_child_weight': [6], 'n_estimators': [1600]})\n",
    "# print(evaluate_model(model, value=True))"
   ]
  },
  {
   "cell_type": "code",
   "execution_count": 14,
   "id": "brown-server",
   "metadata": {
    "scrolled": true
   },
   "outputs": [
    {
     "data": {
      "application/vnd.jupyter.widget-view+json": {
       "model_id": "c452ff082c784f9487996d5016905c01",
       "version_major": 2,
       "version_minor": 0
      },
      "text/plain": [
       "  0%|          | 0/9000 [00:00<?, ?it/s]"
      ]
     },
     "metadata": {},
     "output_type": "display_data"
    },
    {
     "data": {
      "text/html": [
       "<div>\n",
       "<style scoped>\n",
       "    .dataframe tbody tr th:only-of-type {\n",
       "        vertical-align: middle;\n",
       "    }\n",
       "\n",
       "    .dataframe tbody tr th {\n",
       "        vertical-align: top;\n",
       "    }\n",
       "\n",
       "    .dataframe thead th {\n",
       "        text-align: right;\n",
       "    }\n",
       "</style>\n",
       "<table border=\"1\" class=\"dataframe\">\n",
       "  <thead>\n",
       "    <tr style=\"text-align: right;\">\n",
       "      <th></th>\n",
       "      <th>Uniq Id</th>\n",
       "      <th>Per Person Price</th>\n",
       "    </tr>\n",
       "  </thead>\n",
       "  <tbody>\n",
       "    <tr>\n",
       "      <th>0</th>\n",
       "      <td>12c47aefbcca65d6156ba0bc7946704b</td>\n",
       "      <td>20917.468750</td>\n",
       "    </tr>\n",
       "    <tr>\n",
       "      <th>1</th>\n",
       "      <td>156febf7d27315ae9f210ed13bca3ac2</td>\n",
       "      <td>11218.965820</td>\n",
       "    </tr>\n",
       "    <tr>\n",
       "      <th>2</th>\n",
       "      <td>a7f43314e3ee6464a4e35b874bddf2ea</td>\n",
       "      <td>5590.337891</td>\n",
       "    </tr>\n",
       "    <tr>\n",
       "      <th>3</th>\n",
       "      <td>d9cc4b407f3d5d290560c03d9ac71035</td>\n",
       "      <td>7029.317871</td>\n",
       "    </tr>\n",
       "    <tr>\n",
       "      <th>4</th>\n",
       "      <td>b3bbc8aa6429feb260e9ac0a91f252c4</td>\n",
       "      <td>21813.244141</td>\n",
       "    </tr>\n",
       "  </tbody>\n",
       "</table>\n",
       "</div>"
      ],
      "text/plain": [
       "                            Uniq Id  Per Person Price\n",
       "0  12c47aefbcca65d6156ba0bc7946704b  20917.468750    \n",
       "1  156febf7d27315ae9f210ed13bca3ac2  11218.965820    \n",
       "2  a7f43314e3ee6464a4e35b874bddf2ea  5590.337891     \n",
       "3  d9cc4b407f3d5d290560c03d9ac71035  7029.317871     \n",
       "4  b3bbc8aa6429feb260e9ac0a91f252c4  21813.244141    "
      ]
     },
     "execution_count": 14,
     "metadata": {},
     "output_type": "execute_result"
    }
   ],
   "source": [
    "result[target_col] = result['Uniq Id'].progress_apply(lambda x: model.predict(tdf[tdf['Uniq Id'] == x][cat_cols + reg_cols].values)[0])\n",
    "result.head()\n"
   ]
  },
  {
   "cell_type": "code",
   "execution_count": 15,
   "id": "pleasant-venture",
   "metadata": {},
   "outputs": [],
   "source": [
    "result.drop(columns=[\"Uniq Id\"]).to_csv(\"submission.csv\", index=False)"
   ]
  },
  {
   "cell_type": "code",
   "execution_count": 16,
   "id": "fatal-ghana",
   "metadata": {},
   "outputs": [
    {
     "data": {
      "text/html": [
       "<a href='submission.csv' target='_blank'>submission.csv</a><br>"
      ],
      "text/plain": [
       "/home/ashutosh/code/machine_hack/price_prediction/submissions/submission.csv"
      ]
     },
     "execution_count": 16,
     "metadata": {},
     "output_type": "execute_result"
    }
   ],
   "source": [
    "from IPython.display import FileLink\n",
    "\n",
    "FileLink('submission.csv')"
   ]
  },
  {
   "cell_type": "code",
   "execution_count": 17,
   "id": "failing-restriction",
   "metadata": {},
   "outputs": [
    {
     "data": {
      "text/plain": [
       "count    16800.000000 \n",
       "mean     20059.856905 \n",
       "std      11608.712685 \n",
       "min      791.000000   \n",
       "25%      12482.500000 \n",
       "50%      17762.250000 \n",
       "75%      25127.375000 \n",
       "max      171062.500000\n",
       "Name: Per Person Price, dtype: float64"
      ]
     },
     "execution_count": 17,
     "metadata": {},
     "output_type": "execute_result"
    }
   ],
   "source": [
    "df[~df[target_col].isna()][target_col].describe()"
   ]
  },
  {
   "cell_type": "code",
   "execution_count": 18,
   "id": "adjacent-basket",
   "metadata": {},
   "outputs": [
    {
     "data": {
      "text/plain": [
       "count    9000.000000  \n",
       "mean     19930.672274 \n",
       "std      9810.642545  \n",
       "min      1977.805664  \n",
       "25%      13341.873535 \n",
       "50%      18262.852539 \n",
       "75%      24803.586426 \n",
       "max      130817.070312\n",
       "Name: Per Person Price, dtype: float64"
      ]
     },
     "execution_count": 18,
     "metadata": {},
     "output_type": "execute_result"
    }
   ],
   "source": [
    "result[target_col].describe()"
   ]
  },
  {
   "cell_type": "code",
   "execution_count": null,
   "id": "attempted-apparatus",
   "metadata": {},
   "outputs": [],
   "source": []
  },
  {
   "cell_type": "code",
   "execution_count": null,
   "id": "incomplete-inclusion",
   "metadata": {},
   "outputs": [],
   "source": []
  }
 ],
 "metadata": {
  "kernelspec": {
   "display_name": "Python 3",
   "language": "python",
   "name": "python3"
  },
  "language_info": {
   "codemirror_mode": {
    "name": "ipython",
    "version": 3
   },
   "file_extension": ".py",
   "mimetype": "text/x-python",
   "name": "python",
   "nbconvert_exporter": "python",
   "pygments_lexer": "ipython3",
   "version": "3.7.7"
  }
 },
 "nbformat": 4,
 "nbformat_minor": 5
}
