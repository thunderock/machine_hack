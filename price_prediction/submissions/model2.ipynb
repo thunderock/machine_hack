{
 "cells": [
  {
   "cell_type": "code",
   "execution_count": 1,
   "id": "dirty-france",
   "metadata": {},
   "outputs": [],
   "source": [
    "\n",
    "import numpy as np\n",
    "import pandas as pd\n",
    "import os\n",
    "%matplotlib inline\n",
    "import matplotlib.pyplot as plt \n",
    "import seaborn as sns\n",
    "color = sns.color_palette()\n",
    "sns.set_style('darkgrid')\n",
    "from sklearn.metrics import mean_squared_error\n",
    "from sklearn.linear_model import LinearRegression\n",
    "from tqdm.notebook import tqdm\n",
    "from catboost import CatBoostRegressor\n",
    "from sklearn.ensemble import RandomForestRegressor\n",
    "from sklearn.preprocessing import StandardScaler, LabelEncoder\n",
    "from sklearn.model_selection import train_test_split, KFold, StratifiedKFold, cross_val_score, RepeatedStratifiedKFold\n",
    "from sklearn import metrics\n",
    "import xgboost as xgb\n",
    "from sklearn.model_selection import GridSearchCV\n",
    "from sklearn.metrics import mean_squared_log_error\n",
    "from sklearn.model_selection import train_test_split\n",
    "from sklearn.metrics import make_scorer\n",
    "\n",
    "tqdm.pandas()\n",
    "\n",
    "SEED=32\n",
    "submission_file = \"../Test.csv\"\n",
    "file = \"../features.csv\"\n",
    "BASELINE = 0.2364157534206991"
   ]
  },
  {
   "cell_type": "code",
   "execution_count": 2,
   "id": "intellectual-creek",
   "metadata": {},
   "outputs": [
    {
     "data": {
      "text/html": [
       "<div>\n",
       "<style scoped>\n",
       "    .dataframe tbody tr th:only-of-type {\n",
       "        vertical-align: middle;\n",
       "    }\n",
       "\n",
       "    .dataframe tbody tr th {\n",
       "        vertical-align: top;\n",
       "    }\n",
       "\n",
       "    .dataframe thead th {\n",
       "        text-align: right;\n",
       "    }\n",
       "</style>\n",
       "<table border=\"1\" class=\"dataframe\">\n",
       "  <thead>\n",
       "    <tr style=\"text-align: right;\">\n",
       "      <th></th>\n",
       "      <th>Uniq Id</th>\n",
       "      <th>Package Type</th>\n",
       "      <th>Start City</th>\n",
       "      <th>Flight Stops</th>\n",
       "      <th>Meals</th>\n",
       "      <th>Cancellation Rules</th>\n",
       "      <th>Per Person Price</th>\n",
       "      <th>destination_count</th>\n",
       "      <th>airlines_count</th>\n",
       "      <th>sightseeing_count</th>\n",
       "      <th>...</th>\n",
       "      <th>hotel_details_7</th>\n",
       "      <th>hotel_details_8</th>\n",
       "      <th>hotel_details_9</th>\n",
       "      <th>airline_0</th>\n",
       "      <th>airline_1</th>\n",
       "      <th>airline_2</th>\n",
       "      <th>airline_3</th>\n",
       "      <th>airline_4</th>\n",
       "      <th>package_type_price</th>\n",
       "      <th>start_city_price</th>\n",
       "    </tr>\n",
       "  </thead>\n",
       "  <tbody>\n",
       "    <tr>\n",
       "      <th>0</th>\n",
       "      <td>349e0d65d7c0cd0ff250060d9df3d085</td>\n",
       "      <td>3</td>\n",
       "      <td>0</td>\n",
       "      <td>0</td>\n",
       "      <td>5</td>\n",
       "      <td>0</td>\n",
       "      <td>38311.0</td>\n",
       "      <td>4</td>\n",
       "      <td>2</td>\n",
       "      <td>23</td>\n",
       "      <td>...</td>\n",
       "      <td>0.029675</td>\n",
       "      <td>-0.027695</td>\n",
       "      <td>0.023090</td>\n",
       "      <td>37</td>\n",
       "      <td>37</td>\n",
       "      <td>37</td>\n",
       "      <td>26</td>\n",
       "      <td>26</td>\n",
       "      <td>38311.000000</td>\n",
       "      <td>38311.000000</td>\n",
       "    </tr>\n",
       "    <tr>\n",
       "      <th>1</th>\n",
       "      <td>179863780585016c62d8a7c274793076</td>\n",
       "      <td>4</td>\n",
       "      <td>1</td>\n",
       "      <td>2</td>\n",
       "      <td>3</td>\n",
       "      <td>5</td>\n",
       "      <td>9823.5</td>\n",
       "      <td>2</td>\n",
       "      <td>1</td>\n",
       "      <td>10</td>\n",
       "      <td>...</td>\n",
       "      <td>0.030878</td>\n",
       "      <td>0.048031</td>\n",
       "      <td>0.027848</td>\n",
       "      <td>37</td>\n",
       "      <td>37</td>\n",
       "      <td>37</td>\n",
       "      <td>37</td>\n",
       "      <td>35</td>\n",
       "      <td>9823.500000</td>\n",
       "      <td>9823.500000</td>\n",
       "    </tr>\n",
       "    <tr>\n",
       "      <th>2</th>\n",
       "      <td>a0b099bcbc4e86c5505dc69464676d42</td>\n",
       "      <td>1</td>\n",
       "      <td>1</td>\n",
       "      <td>1</td>\n",
       "      <td>3</td>\n",
       "      <td>9</td>\n",
       "      <td>2868.0</td>\n",
       "      <td>1</td>\n",
       "      <td>1</td>\n",
       "      <td>1</td>\n",
       "      <td>...</td>\n",
       "      <td>0.041032</td>\n",
       "      <td>0.064535</td>\n",
       "      <td>-0.143252</td>\n",
       "      <td>37</td>\n",
       "      <td>37</td>\n",
       "      <td>37</td>\n",
       "      <td>37</td>\n",
       "      <td>35</td>\n",
       "      <td>2868.000000</td>\n",
       "      <td>6345.750000</td>\n",
       "    </tr>\n",
       "    <tr>\n",
       "      <th>3</th>\n",
       "      <td>3343f7bdcd11e2571c07ada0ca9ef968</td>\n",
       "      <td>3</td>\n",
       "      <td>1</td>\n",
       "      <td>0</td>\n",
       "      <td>5</td>\n",
       "      <td>9</td>\n",
       "      <td>21918.5</td>\n",
       "      <td>1</td>\n",
       "      <td>1</td>\n",
       "      <td>6</td>\n",
       "      <td>...</td>\n",
       "      <td>-0.007607</td>\n",
       "      <td>0.058315</td>\n",
       "      <td>-0.075154</td>\n",
       "      <td>37</td>\n",
       "      <td>37</td>\n",
       "      <td>37</td>\n",
       "      <td>37</td>\n",
       "      <td>24</td>\n",
       "      <td>30114.750000</td>\n",
       "      <td>11536.666667</td>\n",
       "    </tr>\n",
       "    <tr>\n",
       "      <th>4</th>\n",
       "      <td>f7d70956ff8c3b8f39d213958f89bf2d</td>\n",
       "      <td>3</td>\n",
       "      <td>0</td>\n",
       "      <td>0</td>\n",
       "      <td>5</td>\n",
       "      <td>0</td>\n",
       "      <td>13827.5</td>\n",
       "      <td>1</td>\n",
       "      <td>1</td>\n",
       "      <td>5</td>\n",
       "      <td>...</td>\n",
       "      <td>0.070179</td>\n",
       "      <td>0.022961</td>\n",
       "      <td>-0.116450</td>\n",
       "      <td>37</td>\n",
       "      <td>37</td>\n",
       "      <td>37</td>\n",
       "      <td>37</td>\n",
       "      <td>24</td>\n",
       "      <td>24685.666667</td>\n",
       "      <td>26069.250000</td>\n",
       "    </tr>\n",
       "  </tbody>\n",
       "</table>\n",
       "<p>5 rows × 57 columns</p>\n",
       "</div>"
      ],
      "text/plain": [
       "                            Uniq Id  Package Type  Start City  Flight Stops  \\\n",
       "0  349e0d65d7c0cd0ff250060d9df3d085             3           0             0   \n",
       "1  179863780585016c62d8a7c274793076             4           1             2   \n",
       "2  a0b099bcbc4e86c5505dc69464676d42             1           1             1   \n",
       "3  3343f7bdcd11e2571c07ada0ca9ef968             3           1             0   \n",
       "4  f7d70956ff8c3b8f39d213958f89bf2d             3           0             0   \n",
       "\n",
       "   Meals  Cancellation Rules  Per Person Price  destination_count  \\\n",
       "0      5                   0           38311.0                  4   \n",
       "1      3                   5            9823.5                  2   \n",
       "2      3                   9            2868.0                  1   \n",
       "3      5                   9           21918.5                  1   \n",
       "4      5                   0           13827.5                  1   \n",
       "\n",
       "   airlines_count  sightseeing_count  ...  hotel_details_7  hotel_details_8  \\\n",
       "0               2                 23  ...         0.029675        -0.027695   \n",
       "1               1                 10  ...         0.030878         0.048031   \n",
       "2               1                  1  ...         0.041032         0.064535   \n",
       "3               1                  6  ...        -0.007607         0.058315   \n",
       "4               1                  5  ...         0.070179         0.022961   \n",
       "\n",
       "   hotel_details_9  airline_0  airline_1  airline_2  airline_3  airline_4  \\\n",
       "0         0.023090         37         37         37         26         26   \n",
       "1         0.027848         37         37         37         37         35   \n",
       "2        -0.143252         37         37         37         37         35   \n",
       "3        -0.075154         37         37         37         37         24   \n",
       "4        -0.116450         37         37         37         37         24   \n",
       "\n",
       "   package_type_price  start_city_price  \n",
       "0        38311.000000      38311.000000  \n",
       "1         9823.500000       9823.500000  \n",
       "2         2868.000000       6345.750000  \n",
       "3        30114.750000      11536.666667  \n",
       "4        24685.666667      26069.250000  \n",
       "\n",
       "[5 rows x 57 columns]"
      ]
     },
     "execution_count": 2,
     "metadata": {},
     "output_type": "execute_result"
    }
   ],
   "source": [
    "df = pd.read_csv(file)\n",
    "# df.set_index(\"Uniq Id\", drop=True, inplace=True)\n",
    "df.head()"
   ]
  },
  {
   "cell_type": "code",
   "execution_count": 3,
   "id": "invalid-lighter",
   "metadata": {},
   "outputs": [
    {
     "data": {
      "text/plain": [
       "54"
      ]
     },
     "execution_count": 3,
     "metadata": {},
     "output_type": "execute_result"
    }
   ],
   "source": [
    "cat_cols = ['Package Type', 'Start City', 'Cancellation Rules',\n",
    "           'airline_0', 'airline_1', 'airline_2', 'airline_3',\n",
    "       'airline_4']\n",
    "reg_cols = ['Flight Stops', 'Meals', 'destination_count',\n",
    "       'airlines_count', 'sightseeing_count', 'hotel_details_count',\n",
    "       'place_covered_count', 'itinerary_count', 'package_name_length',\n",
    "           'package_name_0', 'package_name_1', 'package_name_2', 'package_name_3',\n",
    "       'package_name_4', 'package_name_5', 'package_name_6', 'package_name_7',\n",
    "       'package_name_8', 'package_name_9', 'destination_0', 'destination_1',\n",
    "       'destination_2', 'destination_3', 'places_covered_0',\n",
    "       'places_covered_1', 'places_covered_2', 'places_covered_3',\n",
    "       'sight_seeing_places_covered_0', 'sight_seeing_places_covered_1',\n",
    "       'sight_seeing_places_covered_3', 'sight_seeing_places_covered_4',\n",
    "       'itinerary_0', 'itinerary_1', 'itinerary_2', 'itinerary_3',\n",
    "       'hotel_details_0', 'hotel_details_1', 'hotel_details_2',\n",
    "       'hotel_details_3', 'hotel_details_4', 'hotel_details_5',\n",
    "       'hotel_details_6', 'hotel_details_7', 'hotel_details_8',\n",
    "       'hotel_details_9']\n",
    "#             'package_type_price', 'start_city_price']\n",
    "\n",
    "target_col = 'Per Person Price'\n",
    "\n",
    "len(cat_cols) + len(reg_cols) + 1"
   ]
  },
  {
   "cell_type": "code",
   "execution_count": 4,
   "id": "guilty-standard",
   "metadata": {},
   "outputs": [],
   "source": [
    "tdf = df[df[target_col].isna()].copy()\n",
    "df = df[~df[target_col].isna()].copy()\n",
    "df, vdf = train_test_split(df, test_size=.2, random_state=SEED)\n"
   ]
  },
  {
   "cell_type": "code",
   "execution_count": 5,
   "id": "opened-rapid",
   "metadata": {},
   "outputs": [],
   "source": [
    "\n",
    "\n",
    "class CatBoost(object):\n",
    "    def __init__(self):\n",
    "        self.model = CatBoostRegressor(random_state=SEED, task_type=\"GPU\", devices='0:1', \n",
    "                           eval_metric='MSLE', thread_count=8, \n",
    "                           cat_features=cat_cols,\n",
    "                           od_type='Iter', od_wait=10, learning_rate=.2, max_depth=8, iterations=100)\n",
    "    \n",
    "    def fit(self, dframe):\n",
    "        self.model.fit(X=dframe[cat_cols + reg_cols], y=dframe[target_col], silent=True)\n",
    "        return self.model\n",
    "    \n",
    "\n"
   ]
  },
  {
   "cell_type": "code",
   "execution_count": 6,
   "id": "naval-thesaurus",
   "metadata": {},
   "outputs": [],
   "source": [
    "\n",
    "def rmsle(true, preds):\n",
    "    return np.sqrt(mean_squared_log_error(true, preds))\n",
    "\n",
    "scorer = make_scorer(rmsle, greater_is_better=False)\n",
    "\n",
    "def evaluate_model(m, value=None):\n",
    "    if not value:\n",
    "        preds = m.predict(vdf[cat_cols + reg_cols])\n",
    "    else:\n",
    "        preds = m.predict(vdf[cat_cols + reg_cols].values)\n",
    "    true = vdf[target_col]\n",
    "    return rmsle(true, preds)\n"
   ]
  },
  {
   "cell_type": "code",
   "execution_count": 16,
   "id": "fixed-sound",
   "metadata": {},
   "outputs": [],
   "source": [
    "class RandomForest(object):\n",
    "    def __init__(self):\n",
    "        self.model = RandomForestRegressor(random_state=SEED)\n",
    "    \n",
    "    def fit(self, dframe):\n",
    "        parameters = {\n",
    "            'oob_score': [False],\n",
    "            'n_estimators': [800, 900 ,1000]\n",
    "        }\n",
    "        clf = GridSearchCV(self.model, parameters, cv=3, refit=True, n_jobs=-1, verbose=3, scoring=scorer)\n",
    "        clf.fit(dframe[cat_cols + reg_cols].values, dframe[target_col].values)\n",
    "        print(self.__class__, clf.best_params_)\n",
    "        return clf\n",
    "\n",
    "class XGBoost(object):\n",
    "    def __init__(self):\n",
    "        self.model = xgb.XGBRegressor(gamma=0, subsample=0.8, colsample_bytree=0.8)\n",
    "        \n",
    "    def fit(self, dframe, parameters=None):\n",
    "        parameters = parameters if parameters else {\n",
    "            'max_depth':[9],\n",
    "            'min_child_weight':[6],\n",
    "            'learning_rate': [.1],\n",
    "            'n_estimators': [700, 800, 900, 1000]\n",
    "        } \n",
    "        clf = GridSearchCV(self.model, parameters, cv=3, refit=True, n_jobs=-1, verbose=3, scoring=scorer)\n",
    "        clf.fit(dframe[cat_cols + reg_cols].values, dframe[target_col].values)\n",
    "        print(self.__class__, clf.best_params_)\n",
    "        \n",
    "        return clf"
   ]
  },
  {
   "cell_type": "code",
   "execution_count": 8,
   "id": "rotary-football",
   "metadata": {},
   "outputs": [
    {
     "name": "stdout",
     "output_type": "stream",
     "text": [
      "Fitting 3 folds for each of 3 candidates, totalling 9 fits\n"
     ]
    },
    {
     "name": "stderr",
     "output_type": "stream",
     "text": [
      "[Parallel(n_jobs=-1)]: Using backend LokyBackend with 8 concurrent workers.\n",
      "[Parallel(n_jobs=-1)]: Done   2 out of   9 | elapsed:  1.1min remaining:  3.7min\n",
      "[Parallel(n_jobs=-1)]: Done   6 out of   9 | elapsed:  1.4min remaining:   42.2s\n",
      "[Parallel(n_jobs=-1)]: Done   9 out of   9 | elapsed:  1.8min finished\n"
     ]
    },
    {
     "name": "stdout",
     "output_type": "stream",
     "text": [
      "<class '__main__.XGBoost'> {'learning_rate': 0.1, 'max_depth': 9, 'min_child_weight': 6, 'n_estimators': 700}\n",
      "<class 'sklearn.model_selection._search.GridSearchCV'> 0.2364157534206991\n"
     ]
    },
    {
     "name": "stderr",
     "output_type": "stream",
     "text": [
      "Metric MSLE is not implemented on GPU. Will use CPU for metric computation, this could significantly affect learning time\n"
     ]
    },
    {
     "name": "stdout",
     "output_type": "stream",
     "text": [
      "<class 'catboost.core.CatBoostRegressor'> 0.277973535437134\n"
     ]
    }
   ],
   "source": [
    "model = XGBoost().fit(df)\n",
    "print(model.__class__, evaluate_model(model, value=True))\n",
    "model = CatBoost().fit(df)\n",
    "print(model.__class__, evaluate_model(model, value=False))\n",
    "# model = RandomForest().fit(df)\n",
    "\n",
    "# print(model.__class__, evaluate_model(model, value=True))\n"
   ]
  },
  {
   "cell_type": "code",
   "execution_count": 9,
   "id": "actual-least",
   "metadata": {},
   "outputs": [
    {
     "data": {
      "text/html": [
       "<div>\n",
       "<style scoped>\n",
       "    .dataframe tbody tr th:only-of-type {\n",
       "        vertical-align: middle;\n",
       "    }\n",
       "\n",
       "    .dataframe tbody tr th {\n",
       "        vertical-align: top;\n",
       "    }\n",
       "\n",
       "    .dataframe thead th {\n",
       "        text-align: right;\n",
       "    }\n",
       "</style>\n",
       "<table border=\"1\" class=\"dataframe\">\n",
       "  <thead>\n",
       "    <tr style=\"text-align: right;\">\n",
       "      <th></th>\n",
       "      <th>Uniq Id</th>\n",
       "    </tr>\n",
       "  </thead>\n",
       "  <tbody>\n",
       "    <tr>\n",
       "      <th>0</th>\n",
       "      <td>12c47aefbcca65d6156ba0bc7946704b</td>\n",
       "    </tr>\n",
       "    <tr>\n",
       "      <th>1</th>\n",
       "      <td>156febf7d27315ae9f210ed13bca3ac2</td>\n",
       "    </tr>\n",
       "    <tr>\n",
       "      <th>2</th>\n",
       "      <td>a7f43314e3ee6464a4e35b874bddf2ea</td>\n",
       "    </tr>\n",
       "    <tr>\n",
       "      <th>3</th>\n",
       "      <td>d9cc4b407f3d5d290560c03d9ac71035</td>\n",
       "    </tr>\n",
       "    <tr>\n",
       "      <th>4</th>\n",
       "      <td>b3bbc8aa6429feb260e9ac0a91f252c4</td>\n",
       "    </tr>\n",
       "    <tr>\n",
       "      <th>...</th>\n",
       "      <td>...</td>\n",
       "    </tr>\n",
       "    <tr>\n",
       "      <th>8995</th>\n",
       "      <td>75171484ea20440a5c08fe040a9a01a7</td>\n",
       "    </tr>\n",
       "    <tr>\n",
       "      <th>8996</th>\n",
       "      <td>16f57cebfb653f2c532314322598ca3a</td>\n",
       "    </tr>\n",
       "    <tr>\n",
       "      <th>8997</th>\n",
       "      <td>477f8b3f07e1a6c027152e2cd5d67e4a</td>\n",
       "    </tr>\n",
       "    <tr>\n",
       "      <th>8998</th>\n",
       "      <td>c9ce916ec5e1b93134a2f84090284bf9</td>\n",
       "    </tr>\n",
       "    <tr>\n",
       "      <th>8999</th>\n",
       "      <td>63f248718bd829ec8a3d234f85637734</td>\n",
       "    </tr>\n",
       "  </tbody>\n",
       "</table>\n",
       "<p>9000 rows × 1 columns</p>\n",
       "</div>"
      ],
      "text/plain": [
       "                               Uniq Id\n",
       "0     12c47aefbcca65d6156ba0bc7946704b\n",
       "1     156febf7d27315ae9f210ed13bca3ac2\n",
       "2     a7f43314e3ee6464a4e35b874bddf2ea\n",
       "3     d9cc4b407f3d5d290560c03d9ac71035\n",
       "4     b3bbc8aa6429feb260e9ac0a91f252c4\n",
       "...                                ...\n",
       "8995  75171484ea20440a5c08fe040a9a01a7\n",
       "8996  16f57cebfb653f2c532314322598ca3a\n",
       "8997  477f8b3f07e1a6c027152e2cd5d67e4a\n",
       "8998  c9ce916ec5e1b93134a2f84090284bf9\n",
       "8999  63f248718bd829ec8a3d234f85637734\n",
       "\n",
       "[9000 rows x 1 columns]"
      ]
     },
     "execution_count": 9,
     "metadata": {},
     "output_type": "execute_result"
    }
   ],
   "source": [
    "result = pd.read_csv(submission_file)[['Uniq Id']]\n",
    "result"
   ]
  },
  {
   "cell_type": "code",
   "execution_count": 10,
   "id": "indie-engagement",
   "metadata": {},
   "outputs": [
    {
     "name": "stdout",
     "output_type": "stream",
     "text": [
      "Fitting 3 folds for each of 1 candidates, totalling 3 fits\n"
     ]
    },
    {
     "name": "stderr",
     "output_type": "stream",
     "text": [
      "[Parallel(n_jobs=-1)]: Using backend LokyBackend with 8 concurrent workers.\n",
      "[Parallel(n_jobs=-1)]: Done   3 out of   3 | elapsed:   45.4s finished\n"
     ]
    },
    {
     "name": "stdout",
     "output_type": "stream",
     "text": [
      "<class '__main__.XGBoost'> {'learning_rate': 0.1, 'max_depth': 9, 'min_child_weight': 6, 'n_estimators': 500}\n"
     ]
    }
   ],
   "source": [
    "model = XGBoost().fit(pd.concat([df, vdf]), \n",
    "                      {'learning_rate': [0.1], 'max_depth': [9], 'min_child_weight': [6], 'n_estimators': [500]})\n"
   ]
  },
  {
   "cell_type": "code",
   "execution_count": 11,
   "id": "posted-desktop",
   "metadata": {
    "scrolled": true
   },
   "outputs": [
    {
     "data": {
      "application/vnd.jupyter.widget-view+json": {
       "model_id": "26641943e2644fd2b70c5ad25ec4f22d",
       "version_major": 2,
       "version_minor": 0
      },
      "text/plain": [
       "  0%|          | 0/9000 [00:00<?, ?it/s]"
      ]
     },
     "metadata": {},
     "output_type": "display_data"
    },
    {
     "data": {
      "text/html": [
       "<div>\n",
       "<style scoped>\n",
       "    .dataframe tbody tr th:only-of-type {\n",
       "        vertical-align: middle;\n",
       "    }\n",
       "\n",
       "    .dataframe tbody tr th {\n",
       "        vertical-align: top;\n",
       "    }\n",
       "\n",
       "    .dataframe thead th {\n",
       "        text-align: right;\n",
       "    }\n",
       "</style>\n",
       "<table border=\"1\" class=\"dataframe\">\n",
       "  <thead>\n",
       "    <tr style=\"text-align: right;\">\n",
       "      <th></th>\n",
       "      <th>Uniq Id</th>\n",
       "      <th>Per Person Price</th>\n",
       "    </tr>\n",
       "  </thead>\n",
       "  <tbody>\n",
       "    <tr>\n",
       "      <th>0</th>\n",
       "      <td>12c47aefbcca65d6156ba0bc7946704b</td>\n",
       "      <td>18677.355469</td>\n",
       "    </tr>\n",
       "    <tr>\n",
       "      <th>1</th>\n",
       "      <td>156febf7d27315ae9f210ed13bca3ac2</td>\n",
       "      <td>11811.688477</td>\n",
       "    </tr>\n",
       "    <tr>\n",
       "      <th>2</th>\n",
       "      <td>a7f43314e3ee6464a4e35b874bddf2ea</td>\n",
       "      <td>4947.875488</td>\n",
       "    </tr>\n",
       "    <tr>\n",
       "      <th>3</th>\n",
       "      <td>d9cc4b407f3d5d290560c03d9ac71035</td>\n",
       "      <td>6752.257812</td>\n",
       "    </tr>\n",
       "    <tr>\n",
       "      <th>4</th>\n",
       "      <td>b3bbc8aa6429feb260e9ac0a91f252c4</td>\n",
       "      <td>20533.675781</td>\n",
       "    </tr>\n",
       "  </tbody>\n",
       "</table>\n",
       "</div>"
      ],
      "text/plain": [
       "                            Uniq Id  Per Person Price\n",
       "0  12c47aefbcca65d6156ba0bc7946704b      18677.355469\n",
       "1  156febf7d27315ae9f210ed13bca3ac2      11811.688477\n",
       "2  a7f43314e3ee6464a4e35b874bddf2ea       4947.875488\n",
       "3  d9cc4b407f3d5d290560c03d9ac71035       6752.257812\n",
       "4  b3bbc8aa6429feb260e9ac0a91f252c4      20533.675781"
      ]
     },
     "execution_count": 11,
     "metadata": {},
     "output_type": "execute_result"
    }
   ],
   "source": [
    "result[target_col] = result['Uniq Id'].progress_apply(lambda x: model.predict(tdf[tdf['Uniq Id'] == x][cat_cols + reg_cols].values)[0])\n",
    "result.head()\n"
   ]
  },
  {
   "cell_type": "code",
   "execution_count": 12,
   "id": "universal-honolulu",
   "metadata": {},
   "outputs": [],
   "source": [
    "result.drop(columns=[\"Uniq Id\"]).to_csv(\"submission.csv\", index=False)"
   ]
  },
  {
   "cell_type": "code",
   "execution_count": 13,
   "id": "sapphire-reset",
   "metadata": {},
   "outputs": [
    {
     "data": {
      "text/html": [
       "<a href='submission.csv' target='_blank'>submission.csv</a><br>"
      ],
      "text/plain": [
       "/home/ashutosh/code/machine_hack/price_prediction/submissions/submission.csv"
      ]
     },
     "execution_count": 13,
     "metadata": {},
     "output_type": "execute_result"
    }
   ],
   "source": [
    "from IPython.display import FileLink\n",
    "\n",
    "FileLink('submission.csv')"
   ]
  },
  {
   "cell_type": "code",
   "execution_count": 14,
   "id": "theoretical-bathroom",
   "metadata": {},
   "outputs": [
    {
     "data": {
      "text/plain": [
       "count     16800.000000\n",
       "mean      20059.856905\n",
       "std       11608.712685\n",
       "min         791.000000\n",
       "25%       12482.500000\n",
       "50%       17762.250000\n",
       "75%       25127.375000\n",
       "max      171062.500000\n",
       "Name: Per Person Price, dtype: float64"
      ]
     },
     "execution_count": 14,
     "metadata": {},
     "output_type": "execute_result"
    }
   ],
   "source": [
    "df[~df[target_col].isna()][target_col].describe()"
   ]
  },
  {
   "cell_type": "code",
   "execution_count": 15,
   "id": "potential-footage",
   "metadata": {},
   "outputs": [
    {
     "data": {
      "text/plain": [
       "count      9000.000000\n",
       "mean      19936.074562\n",
       "std        9794.218098\n",
       "min        1189.534912\n",
       "25%       13373.987793\n",
       "50%       18232.416016\n",
       "75%       24996.697754\n",
       "max      133754.109375\n",
       "Name: Per Person Price, dtype: float64"
      ]
     },
     "execution_count": 15,
     "metadata": {},
     "output_type": "execute_result"
    }
   ],
   "source": [
    "result[target_col].describe()"
   ]
  },
  {
   "cell_type": "code",
   "execution_count": null,
   "id": "adverse-driver",
   "metadata": {},
   "outputs": [],
   "source": []
  },
  {
   "cell_type": "code",
   "execution_count": null,
   "id": "twenty-possible",
   "metadata": {},
   "outputs": [],
   "source": []
  }
 ],
 "metadata": {
  "kernelspec": {
   "display_name": "Python 3",
   "language": "python",
   "name": "python3"
  },
  "language_info": {
   "codemirror_mode": {
    "name": "ipython",
    "version": 3
   },
   "file_extension": ".py",
   "mimetype": "text/x-python",
   "name": "python",
   "nbconvert_exporter": "python",
   "pygments_lexer": "ipython3",
   "version": "3.7.7"
  }
 },
 "nbformat": 4,
 "nbformat_minor": 5
}
